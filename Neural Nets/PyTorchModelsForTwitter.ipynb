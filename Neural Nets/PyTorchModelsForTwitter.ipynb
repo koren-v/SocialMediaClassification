{
  "nbformat": 4,
  "nbformat_minor": 0,
  "metadata": {
    "colab": {
      "name": "PyTorchModelsForTwitter.ipynb",
      "provenance": [],
      "collapsed_sections": []
    },
    "kernelspec": {
      "name": "python3",
      "display_name": "Python 3"
    },
    "accelerator": "GPU"
  },
  "cells": [
    {
      "cell_type": "code",
      "metadata": {
        "id": "lCNalZ6CTc9L",
        "colab_type": "code",
        "outputId": "2fbad737-9804-429c-a09d-226bbb434830",
        "colab": {
          "base_uri": "https://localhost:8080/",
          "height": 34
        }
      },
      "source": [
        "from google.colab import drive\n",
        "drive.mount('/content/drive')"
      ],
      "execution_count": 0,
      "outputs": [
        {
          "output_type": "stream",
          "text": [
            "Drive already mounted at /content/drive; to attempt to forcibly remount, call drive.mount(\"/content/drive\", force_remount=True).\n"
          ],
          "name": "stdout"
        }
      ]
    },
    {
      "cell_type": "code",
      "metadata": {
        "id": "neBMha8ZTlb-",
        "colab_type": "code",
        "colab": {}
      },
      "source": [
        "!cp /content/drive/'My Drive'/kaggle.json .\n",
        "!cp /content/drive/'My Drive'/tweeter/nets.py .\n",
        "!cp /content/drive/'My Drive'/tweeter/utils_for_dl.py ."
      ],
      "execution_count": 0,
      "outputs": []
    },
    {
      "cell_type": "code",
      "metadata": {
        "id": "2T8PqxifQlQ6",
        "colab_type": "code",
        "outputId": "3a726b9f-44dc-4799-81f4-297cbb8a096b",
        "colab": {
          "base_uri": "https://localhost:8080/",
          "height": 34
        }
      },
      "source": [
        "!ls"
      ],
      "execution_count": 0,
      "outputs": [
        {
          "output_type": "stream",
          "text": [
            "drive  kaggle.json  nets.py  sample_data  utils_for_dl.py\n"
          ],
          "name": "stdout"
        }
      ]
    },
    {
      "cell_type": "code",
      "metadata": {
        "id": "RzMDkf2XRFZX",
        "colab_type": "code",
        "colab": {}
      },
      "source": [
        "!mkdir ~/.kaggle\n",
        "!mv kaggle.json ~/.kaggle"
      ],
      "execution_count": 0,
      "outputs": []
    },
    {
      "cell_type": "code",
      "metadata": {
        "id": "TxcQ7NDjRlg5",
        "colab_type": "code",
        "outputId": "d32f0553-d774-4501-f8eb-319ab21893d7",
        "colab": {
          "base_uri": "https://localhost:8080/",
          "height": 187
        }
      },
      "source": [
        "!kaggle competitions download -c nlp-getting-started"
      ],
      "execution_count": 0,
      "outputs": [
        {
          "output_type": "stream",
          "text": [
            "Warning: Looks like you're using an outdated API Version, please consider updating (server 1.5.6 / client 1.5.4)\n",
            "Downloading train.csv to /content\n",
            "  0% 0.00/965k [00:00<?, ?B/s]\n",
            "100% 965k/965k [00:00<00:00, 65.7MB/s]\n",
            "Downloading test.csv to /content\n",
            "  0% 0.00/411k [00:00<?, ?B/s]\n",
            "100% 411k/411k [00:00<00:00, 126MB/s]\n",
            "Downloading sample_submission.csv to /content\n",
            "  0% 0.00/22.2k [00:00<?, ?B/s]\n",
            "100% 22.2k/22.2k [00:00<00:00, 22.8MB/s]\n"
          ],
          "name": "stdout"
        }
      ]
    },
    {
      "cell_type": "code",
      "metadata": {
        "id": "C470HQG139Qz",
        "colab_type": "code",
        "colab": {}
      },
      "source": [
        "from nets import *\n",
        "from utils_for_dl import *"
      ],
      "execution_count": 0,
      "outputs": []
    },
    {
      "cell_type": "code",
      "metadata": {
        "id": "qdP2YuYfLWe8",
        "colab_type": "code",
        "colab": {}
      },
      "source": [
        "import torch\n",
        "from torchtext import data\n",
        "\n",
        "import pandas as pd\n",
        "import numpy as np\n",
        "\n",
        "import torch.nn as nn\n",
        "import torch.optim as optim\n",
        "import torch.nn.functional as F\n",
        "import torchtext\n",
        "\n",
        "import spacy\n",
        "\n",
        "from torch.autograd import Variable\n",
        "\n",
        "import time\n",
        "import copy\n",
        "from torch.optim import lr_scheduler\n",
        "\n",
        "from sklearn.model_selection import StratifiedKFold\n",
        "from sklearn.model_selection import train_test_split\n",
        "from torchtext.vocab import Vectors, GloVe\n",
        "import matplotlib.pyplot as plt\n",
        "import gc\n",
        "\n",
        "from sklearn.metrics import f1_score\n",
        "from sklearn.metrics import accuracy_score"
      ],
      "execution_count": 0,
      "outputs": []
    },
    {
      "cell_type": "code",
      "metadata": {
        "id": "IThESFBPLa0W",
        "colab_type": "code",
        "outputId": "2b4f51b0-c633-4ca5-b02a-56cb2441c89e",
        "colab": {
          "base_uri": "https://localhost:8080/",
          "height": 204
        }
      },
      "source": [
        "train_dataset = pd.read_csv(\"train.csv\")\n",
        "test_dataset = pd.read_csv(\"test.csv\")\n",
        "train_dataset.head()"
      ],
      "execution_count": 0,
      "outputs": [
        {
          "output_type": "execute_result",
          "data": {
            "text/html": [
              "<div>\n",
              "<style scoped>\n",
              "    .dataframe tbody tr th:only-of-type {\n",
              "        vertical-align: middle;\n",
              "    }\n",
              "\n",
              "    .dataframe tbody tr th {\n",
              "        vertical-align: top;\n",
              "    }\n",
              "\n",
              "    .dataframe thead th {\n",
              "        text-align: right;\n",
              "    }\n",
              "</style>\n",
              "<table border=\"1\" class=\"dataframe\">\n",
              "  <thead>\n",
              "    <tr style=\"text-align: right;\">\n",
              "      <th></th>\n",
              "      <th>id</th>\n",
              "      <th>keyword</th>\n",
              "      <th>location</th>\n",
              "      <th>text</th>\n",
              "      <th>target</th>\n",
              "    </tr>\n",
              "  </thead>\n",
              "  <tbody>\n",
              "    <tr>\n",
              "      <th>0</th>\n",
              "      <td>1</td>\n",
              "      <td>NaN</td>\n",
              "      <td>NaN</td>\n",
              "      <td>Our Deeds are the Reason of this #earthquake M...</td>\n",
              "      <td>1</td>\n",
              "    </tr>\n",
              "    <tr>\n",
              "      <th>1</th>\n",
              "      <td>4</td>\n",
              "      <td>NaN</td>\n",
              "      <td>NaN</td>\n",
              "      <td>Forest fire near La Ronge Sask. Canada</td>\n",
              "      <td>1</td>\n",
              "    </tr>\n",
              "    <tr>\n",
              "      <th>2</th>\n",
              "      <td>5</td>\n",
              "      <td>NaN</td>\n",
              "      <td>NaN</td>\n",
              "      <td>All residents asked to 'shelter in place' are ...</td>\n",
              "      <td>1</td>\n",
              "    </tr>\n",
              "    <tr>\n",
              "      <th>3</th>\n",
              "      <td>6</td>\n",
              "      <td>NaN</td>\n",
              "      <td>NaN</td>\n",
              "      <td>13,000 people receive #wildfires evacuation or...</td>\n",
              "      <td>1</td>\n",
              "    </tr>\n",
              "    <tr>\n",
              "      <th>4</th>\n",
              "      <td>7</td>\n",
              "      <td>NaN</td>\n",
              "      <td>NaN</td>\n",
              "      <td>Just got sent this photo from Ruby #Alaska as ...</td>\n",
              "      <td>1</td>\n",
              "    </tr>\n",
              "  </tbody>\n",
              "</table>\n",
              "</div>"
            ],
            "text/plain": [
              "   id keyword  ...                                               text target\n",
              "0   1     NaN  ...  Our Deeds are the Reason of this #earthquake M...      1\n",
              "1   4     NaN  ...             Forest fire near La Ronge Sask. Canada      1\n",
              "2   5     NaN  ...  All residents asked to 'shelter in place' are ...      1\n",
              "3   6     NaN  ...  13,000 people receive #wildfires evacuation or...      1\n",
              "4   7     NaN  ...  Just got sent this photo from Ruby #Alaska as ...      1\n",
              "\n",
              "[5 rows x 5 columns]"
            ]
          },
          "metadata": {
            "tags": []
          },
          "execution_count": 9
        }
      ]
    },
    {
      "cell_type": "markdown",
      "metadata": {
        "id": "K3MIuc7fzWMR",
        "colab_type": "text"
      },
      "source": [
        "##Data Cleaning:"
      ]
    },
    {
      "cell_type": "markdown",
      "metadata": {
        "id": "miuyjb7qylOB",
        "colab_type": "text"
      },
      "source": [
        "First, we will do some data cleaning, cause it's important for this model (conclusion made by several experiments)"
      ]
    },
    {
      "cell_type": "code",
      "metadata": {
        "id": "vLPMRYuyalHu",
        "colab_type": "code",
        "colab": {}
      },
      "source": [
        "import re\n",
        "url = re.compile(r'https?://\\S+|www\\.\\S+')\n",
        "train_preproc = train_dataset['text'].apply(lambda tweet: url.sub(r'',tweet))\n",
        "test_preproc = test_dataset['text'].apply(lambda tweet: url.sub(r'',tweet))"
      ],
      "execution_count": 0,
      "outputs": []
    },
    {
      "cell_type": "code",
      "metadata": {
        "id": "1mNGLukNanhz",
        "colab_type": "code",
        "colab": {}
      },
      "source": [
        "train_preproc=train_preproc.str.lower().str.replace(\"[^a-z]\", \" \")\n",
        "test_preproc=test_preproc.str.lower().str.replace(\"[^a-z]\", \" \")"
      ],
      "execution_count": 0,
      "outputs": []
    },
    {
      "cell_type": "code",
      "metadata": {
        "id": "ouXZxnqCap0B",
        "colab_type": "code",
        "colab": {}
      },
      "source": [
        "tokenized_train = train_preproc.apply(lambda tweet: tweet.split())\n",
        "tokenized_test = test_preproc.apply(lambda tweet: tweet.split())"
      ],
      "execution_count": 0,
      "outputs": []
    },
    {
      "cell_type": "code",
      "metadata": {
        "id": "NY2vuo60ar2q",
        "colab_type": "code",
        "outputId": "702f7a94-5902-42a8-f832-25dd1464d2ed",
        "colab": {
          "base_uri": "https://localhost:8080/",
          "height": 85
        }
      },
      "source": [
        "import nltk\n",
        "nltk.download('stopwords')\n",
        "from nltk.corpus import stopwords \n",
        "stop_words = stopwords.words('english')\n",
        "\n",
        "nltk.download('wordnet')\n",
        "from nltk.stem import WordNetLemmatizer\n",
        "lem = WordNetLemmatizer()\n",
        "\n",
        "tokenized_train = tokenized_train.apply(lambda tweet: [lem.lemmatize(word) for word in tweet if word not in stop_words])\n",
        "tokenized_test = tokenized_test.apply(lambda tweet: [lem.lemmatize(word) for word in tweet if word not in stop_words])"
      ],
      "execution_count": 0,
      "outputs": [
        {
          "output_type": "stream",
          "text": [
            "[nltk_data] Downloading package stopwords to /root/nltk_data...\n",
            "[nltk_data]   Unzipping corpora/stopwords.zip.\n",
            "[nltk_data] Downloading package wordnet to /root/nltk_data...\n",
            "[nltk_data]   Unzipping corpora/wordnet.zip.\n"
          ],
          "name": "stdout"
        }
      ]
    },
    {
      "cell_type": "code",
      "metadata": {
        "id": "Y88hS0Qpautc",
        "colab_type": "code",
        "colab": {}
      },
      "source": [
        "detokenized_train = [] \n",
        "for i in range(len(train_preproc)): \n",
        "    t = ' '.join(tokenized_train[i]) \n",
        "    detokenized_train.append(t) \n",
        "\n",
        "detokenized_test = [] \n",
        "for i in range(len(test_preproc)): \n",
        "    t = ' '.join(tokenized_test[i]) \n",
        "    detokenized_test.append(t) \n",
        "\n",
        "train_dataset['text'] = detokenized_train\n",
        "test_dataset['text'] = detokenized_test"
      ],
      "execution_count": 0,
      "outputs": []
    },
    {
      "cell_type": "code",
      "metadata": {
        "id": "03hv__R3RwYv",
        "colab_type": "code",
        "colab": {}
      },
      "source": [
        "train_dataset = train_dataset[['text', 'target']]\n",
        "test_dataset = test_dataset[['text']]"
      ],
      "execution_count": 0,
      "outputs": []
    },
    {
      "cell_type": "markdown",
      "metadata": {
        "id": "gFvlkOA--Uo9",
        "colab_type": "text"
      },
      "source": [
        "By the next step, I will split the data to train and validation to find good hyperparameters:"
      ]
    },
    {
      "cell_type": "code",
      "metadata": {
        "id": "oOHvxIDJsr2I",
        "colab_type": "code",
        "colab": {}
      },
      "source": [
        "!mkdir torchtext_data"
      ],
      "execution_count": 0,
      "outputs": []
    },
    {
      "cell_type": "code",
      "metadata": {
        "id": "fhgm0Y4SX9_T",
        "colab_type": "code",
        "colab": {}
      },
      "source": [
        "X = train_dataset['text']\n",
        "y = train_dataset['target']\n",
        "\n",
        "X_train, X_val, y_train, y_val = train_test_split(X, y, test_size=0.20, random_state=42)"
      ],
      "execution_count": 0,
      "outputs": []
    },
    {
      "cell_type": "code",
      "metadata": {
        "id": "vh0wz6NNYI5F",
        "colab_type": "code",
        "colab": {}
      },
      "source": [
        "train_dataset_splt = pd.concat([X_train, y_train], axis=1)\n",
        "val_data_splt = pd.concat([X_val, y_val], axis=1)\n",
        "\n",
        "train_dataset_splt.to_csv(\"torchtext_data/train.csv\", index=False)\n",
        "val_data_splt.to_csv(\"torchtext_data/val.csv\", index=False)"
      ],
      "execution_count": 0,
      "outputs": []
    },
    {
      "cell_type": "code",
      "metadata": {
        "id": "9YMGW7knYNF_",
        "colab_type": "code",
        "colab": {}
      },
      "source": [
        "device = torch.device('cuda' if torch.cuda.is_available() else 'cpu')"
      ],
      "execution_count": 0,
      "outputs": []
    },
    {
      "cell_type": "markdown",
      "metadata": {
        "id": "aufu0Zly08QV",
        "colab_type": "text"
      },
      "source": [
        "To choose the right length of a sequence, let's have a look at the histograms with shown lengths in all train and test datasets: "
      ]
    },
    {
      "cell_type": "code",
      "metadata": {
        "id": "QOeeDuDxe1xG",
        "colab_type": "code",
        "outputId": "361b0aba-8dcd-4fa2-f704-471fffca3e66",
        "colab": {
          "base_uri": "https://localhost:8080/",
          "height": 272
        }
      },
      "source": [
        "plt.figure(figsize=(13,13))\n",
        "\n",
        "plt.subplot(321)\n",
        "tweet_len=train_dataset['text'].str.split().map(lambda x: len(x))\n",
        "plt.hist(tweet_len, bins=30, color='#66b3ff')\n",
        "plt.title('Length in Train')\n",
        "\n",
        "plt.subplot(322)\n",
        "tweet_len=test_dataset['text'].str.split().map(lambda x: len(x))\n",
        "plt.hist(tweet_len, bins=30,color='#99ff99')\n",
        "plt.title('Length in Test')\n",
        "plt.show()"
      ],
      "execution_count": 0,
      "outputs": [
        {
          "output_type": "display_data",
          "data": {
            "image/png": "[encoded data removed]",
            "text/plain": [
              "<Figure size 936x936 with 2 Axes>"
            ]
          },
          "metadata": {
            "tags": []
          }
        }
      ]
    },
    {
      "cell_type": "markdown",
      "metadata": {
        "id": "ge_hOGkC1a4n",
        "colab_type": "text"
      },
      "source": [
        "I will pick 17:"
      ]
    },
    {
      "cell_type": "code",
      "metadata": {
        "id": "Gc-D9xtwYN1H",
        "colab_type": "code",
        "colab": {}
      },
      "source": [
        "fix_length = 17\n",
        "TEXT = data.Field(sequential=True, tokenize=\"spacy\", fix_length=fix_length)\n",
        "LABEL = data.LabelField(dtype=torch.long, sequential=False)"
      ],
      "execution_count": 0,
      "outputs": []
    },
    {
      "cell_type": "code",
      "metadata": {
        "id": "l1vq6lGtYPdr",
        "colab_type": "code",
        "colab": {}
      },
      "source": [
        "train_data, test_data = data.TabularDataset.splits(\n",
        "    path=\"torchtext_data/\", train=\"train.csv\", \n",
        "    test=\"val.csv\",format=\"csv\", skip_header=True, \n",
        "    fields=[('Text', TEXT), ('Label', LABEL)]\n",
        ")"
      ],
      "execution_count": 0,
      "outputs": []
    },
    {
      "cell_type": "markdown",
      "metadata": {
        "id": "W7bRQQMc2G-q",
        "colab_type": "text"
      },
      "source": [
        "Creating iterators:"
      ]
    },
    {
      "cell_type": "code",
      "metadata": {
        "id": "0hVoWuwTYTv8",
        "colab_type": "code",
        "colab": {}
      },
      "source": [
        "batch_size = 16\n",
        "\n",
        "train_iterator, test_iterator = data.BucketIterator.splits(\n",
        "    (train_data, test_data), sort_key=lambda x: len(x.Text),\n",
        "    batch_size=batch_size,\n",
        "    device=device)"
      ],
      "execution_count": 0,
      "outputs": []
    },
    {
      "cell_type": "code",
      "metadata": {
        "id": "xeXeZdmhYWfe",
        "colab_type": "code",
        "outputId": "aaf42203-12c6-4459-ca46-0f55c09b7eb5",
        "colab": {
          "base_uri": "https://localhost:8080/",
          "height": 51
        }
      },
      "source": [
        "print(f'Number of training examples: {len(train_data)}')\n",
        "print(f'Number of testing examples: {len(test_data)}')"
      ],
      "execution_count": 0,
      "outputs": [
        {
          "output_type": "stream",
          "text": [
            "Number of training examples: 6090\n",
            "Number of testing examples: 1523\n"
          ],
          "name": "stdout"
        }
      ]
    },
    {
      "cell_type": "code",
      "metadata": {
        "id": "QbgTEYy2YYby",
        "colab_type": "code",
        "outputId": "552d8e8b-d404-4f83-a1b0-1cf763bc37d9",
        "colab": {
          "base_uri": "https://localhost:8080/",
          "height": 51
        }
      },
      "source": [
        "TEXT.build_vocab(train_data, vectors=GloVe(name='6B', dim=300))\n",
        "LABEL.build_vocab(train_data)"
      ],
      "execution_count": 0,
      "outputs": [
        {
          "output_type": "stream",
          "text": [
            ".vector_cache/glove.6B.zip: 862MB [06:27, 2.22MB/s]                           \n",
            "100%|█████████▉| 399663/400000 [00:38<00:00, 10771.95it/s]"
          ],
          "name": "stderr"
        }
      ]
    },
    {
      "cell_type": "code",
      "metadata": {
        "id": "hvDgsbQXYY_7",
        "colab_type": "code",
        "colab": {}
      },
      "source": [
        "word_embeddings = TEXT.vocab.vectors\n",
        "output_size = 2 #two classes\n",
        "num_layers = 1\n",
        "hidden_size = 32 #num of units in our NN\n",
        "embedding_length = 300 #dim of GloVe vector\n",
        "vocab_size = len(TEXT.vocab)"
      ],
      "execution_count": 0,
      "outputs": []
    },
    {
      "cell_type": "markdown",
      "metadata": {
        "id": "y4QE22rY1jx4",
        "colab_type": "text"
      },
      "source": [
        "I tried just one architecture (LSTM with 2D Max Pooling layer), but I want to try others in nearest future:"
      ]
    },
    {
      "cell_type": "code",
      "metadata": {
        "id": "EBWTh9GxYrUO",
        "colab_type": "code",
        "colab": {}
      },
      "source": [
        "model = LSTM2DMaxPoolClassifier(batch_size, output_size, hidden_size, vocab_size, embedding_length, num_layers, word_embeddings)"
      ],
      "execution_count": 0,
      "outputs": []
    },
    {
      "cell_type": "code",
      "metadata": {
        "id": "9YwqYkHNYcmV",
        "colab_type": "code",
        "colab": {}
      },
      "source": [
        "optimizer = optim.Adam(model.parameters(), lr=2e-3, weight_decay=4e-4)\n",
        "criterion = nn.CrossEntropyLoss()\n",
        "exp_lr_scheduler = lr_scheduler.StepLR(optimizer, step_size=3, gamma=0.05)"
      ],
      "execution_count": 0,
      "outputs": []
    },
    {
      "cell_type": "code",
      "metadata": {
        "id": "ouejiD4vYe1X",
        "colab_type": "code",
        "outputId": "190697bf-6daf-4e85-d52d-57752b35a44d",
        "colab": {
          "base_uri": "https://localhost:8080/",
          "height": 34
        }
      },
      "source": [
        "model = model.to(device)\n",
        "criterion = criterion.to(device)"
      ],
      "execution_count": 0,
      "outputs": [
        {
          "output_type": "stream",
          "text": [
            "\r100%|█████████▉| 399663/400000 [00:50<00:00, 10771.95it/s]"
          ],
          "name": "stderr"
        }
      ]
    },
    {
      "cell_type": "code",
      "metadata": {
        "id": "-JdTVTK8XjG9",
        "colab_type": "code",
        "colab": {}
      },
      "source": [
        "dataiter_dict = {'train': train_iterator, 'val': test_iterator}\n",
        "dataset_sizes = {'train':len(train_data), 'val':len(test_data)}"
      ],
      "execution_count": 0,
      "outputs": []
    },
    {
      "cell_type": "code",
      "metadata": {
        "id": "btYEhlk5Y5Jw",
        "colab_type": "code",
        "outputId": "c391e66b-9c75-45c4-d70b-cdd2414fe080",
        "colab": {
          "base_uri": "https://localhost:8080/",
          "height": 952
        }
      },
      "source": [
        "model_fit, res = train_and_eval(model, \n",
        "                                criterion, \n",
        "                                optimizer, \n",
        "                                dataiter_dict, \n",
        "                                dataset_sizes,\n",
        "                                batch_size, \n",
        "                                scheduler = exp_lr_scheduler, \n",
        "                                num_epochs=7)"
      ],
      "execution_count": 0,
      "outputs": [
        {
          "output_type": "stream",
          "text": [
            "starting\n",
            "Epoch 1/7\n",
            "----------\n",
            "train total loss: 0.5846 \n",
            "train sentiment_acc: 0.7468\n",
            "val total loss: 0.5453 \n",
            "val sentiment_acc: 0.7965\n",
            "saving with loss of 0.5452777867010371 improved over previous 200\n",
            "\n",
            "Epoch 2/7\n",
            "----------\n",
            "train total loss: 0.5395 \n",
            "train sentiment_acc: 0.7979\n",
            "val total loss: 0.5266 \n",
            "val sentiment_acc: 0.8175\n",
            "saving with loss of 0.5265893768458012 improved over previous 0.5452777867010371\n",
            "\n",
            "Epoch 3/7\n",
            "----------\n",
            "train total loss: 0.5200 \n",
            "train sentiment_acc: 0.8163\n",
            "val total loss: 0.5360 \n",
            "val sentiment_acc: 0.8011\n",
            "\n",
            "Epoch 4/7\n",
            "----------\n",
            "train total loss: 0.5117 \n",
            "train sentiment_acc: 0.8238\n",
            "val total loss: 0.5328 \n",
            "val sentiment_acc: 0.8063\n",
            "\n",
            "Epoch 5/7\n",
            "----------\n",
            "train total loss: 0.5032 \n",
            "train sentiment_acc: 0.8328\n",
            "val total loss: 0.5327 \n",
            "val sentiment_acc: 0.8017\n",
            "\n",
            "Epoch 6/7\n",
            "----------\n",
            "train total loss: 0.5010 \n",
            "train sentiment_acc: 0.8368\n",
            "val total loss: 0.5330 \n",
            "val sentiment_acc: 0.7945\n",
            "\n",
            "Epoch 7/7\n",
            "----------\n",
            "train total loss: 0.4930 \n",
            "train sentiment_acc: 0.8433\n",
            "val total loss: 0.5304 \n",
            "val sentiment_acc: 0.8030\n",
            "recall 0.7273\n",
            "\n",
            "Training complete in 0m 10s\n",
            "Best val loss: 0.526589\n"
          ],
          "name": "stdout"
        }
      ]
    },
    {
      "cell_type": "code",
      "metadata": {
        "id": "zv1rfyZuY7_R",
        "colab_type": "code",
        "outputId": "f04188d2-84c5-456f-cbe9-5acdac9c1a39",
        "colab": {
          "base_uri": "https://localhost:8080/",
          "height": 279
        }
      },
      "source": [
        "plt.plot(res['train_acc'], label = 'Train Accuracy')\n",
        "plt.plot(res['val_acc'], label = 'Test Accuracy')\n",
        "plt.xlabel('Epoch')\n",
        "plt.legend()\n",
        "plt.show()"
      ],
      "execution_count": 0,
      "outputs": [
        {
          "output_type": "display_data",
          "data": {
            "image/png": "[encoded data removed]",
            "text/plain": [
              "<Figure size 432x288 with 1 Axes>"
            ]
          },
          "metadata": {
            "tags": []
          }
        }
      ]
    },
    {
      "cell_type": "code",
      "metadata": {
        "id": "5LHunoscZCtI",
        "colab_type": "code",
        "outputId": "4bb7318d-3654-4db5-d631-a2d248a93b38",
        "colab": {
          "base_uri": "https://localhost:8080/",
          "height": 34
        }
      },
      "source": [
        "float(res['f1'])"
      ],
      "execution_count": 0,
      "outputs": [
        {
          "output_type": "execute_result",
          "data": {
            "text/plain": [
              "0.760676920413971"
            ]
          },
          "metadata": {
            "tags": []
          },
          "execution_count": 34
        }
      ]
    },
    {
      "cell_type": "markdown",
      "metadata": {
        "id": "lxTIdr4R2Ob1",
        "colab_type": "text"
      },
      "source": [
        "Not too bad."
      ]
    },
    {
      "cell_type": "markdown",
      "metadata": {
        "id": "QRWkGMyT2W-X",
        "colab_type": "text"
      },
      "source": [
        "After finding good hyperparameters, I will use Stratified (cause unbalanced set) K-Fold to pick prediction for all training set:"
      ]
    },
    {
      "cell_type": "code",
      "metadata": {
        "id": "ADjhUf2Bsr0G",
        "colab_type": "code",
        "colab": {}
      },
      "source": [
        "def cross_val(train_dataset, n_folds = 5):\n",
        "\n",
        "    k_fold = StratifiedKFold(n_splits=n_folds, shuffle=True)\n",
        "    results = []\n",
        "\n",
        "    out_of_fold = np.zeros(train_dataset.to_numpy().shape[0])\n",
        "\n",
        "    for train_index, val_index in k_fold.split(train_dataset, train_dataset['target']):\n",
        "      \n",
        "        train_df = train_dataset.iloc[train_index]\n",
        "        val_df = train_dataset.iloc[val_index]\n",
        "\n",
        "        train_df.to_csv(\"torchtext_data/train.csv\", index=False)\n",
        "        val_df.to_csv(\"torchtext_data/val.csv\", index=False)\n",
        "\n",
        "        device = torch.device('cuda' if torch.cuda.is_available() else 'cpu')\n",
        "\n",
        "        TEXT = data.Field(sequential=True, tokenize=\"spacy\", fix_length=17)\n",
        "        LABEL = data.LabelField(dtype=torch.long, sequential=False)\n",
        "\n",
        "        train_data, val_data = data.TabularDataset.splits(\n",
        "            path=\"torchtext_data/\", train=\"train.csv\", \n",
        "            test=\"val.csv\",format=\"csv\", skip_header=True, \n",
        "            fields=[('Text', TEXT), ('Label', LABEL)]\n",
        "            )\n",
        "        \n",
        "        print(f'\\nNumber of training examples: {len(train_data)}')\n",
        "        print(f'Number of testing examples: {len(val_data)}')\n",
        "\n",
        "        TEXT.build_vocab(train_data, vectors=GloVe(name='6B', dim=300))\n",
        "        LABEL.build_vocab(train_data)\n",
        "\n",
        "        batch_size = 16\n",
        " \n",
        "        train_iterator = data.BucketIterator(train_data, \n",
        "                                             sort_key=lambda x: len(x.Text),\n",
        "                                             batch_size=batch_size,\n",
        "                                             device=device)\n",
        "        \n",
        "        val_iterator = data.BucketIterator(val_data,\n",
        "                                           train=False,\n",
        "                                           sort = False,\n",
        "                                           sort_within_batch=False,\n",
        "                                           repeat=False,\n",
        "                                           batch_size=batch_size,\n",
        "                                           device=device)\n",
        "\n",
        "        model = LSTM2DMaxPoolClassifier(batch_size,\n",
        "                                        output_size = 2,\n",
        "                                        hidden_size = 32,\n",
        "                                        vocab_size = len(TEXT.vocab),\n",
        "                                        embedding_length = 300,\n",
        "                                        num_layers = 1,\n",
        "                                        weights = TEXT.vocab.vectors) \n",
        "        \n",
        "        optimizer = optim.Adam(model.parameters(), lr=2e-3, weight_decay=4e-4)\n",
        "        criterion = nn.CrossEntropyLoss()\n",
        "        exp_lr_scheduler = lr_scheduler.StepLR(optimizer, step_size=3, gamma=0.05)\n",
        "\n",
        "        model = model.to(device)\n",
        "        criterion = criterion.to(device)\n",
        "\n",
        "        val_size = len(val_data)\n",
        "\n",
        "        train(model, criterion, optimizer, exp_lr_scheduler, train_iterator, batch_size, num_epochs = 7)\n",
        "\n",
        "        preds = evaluate(model, criterion, optimizer, val_iterator, batch_size, val_size)\n",
        "\n",
        "        labels = train_dataset['target'].iloc[val_index].to_numpy()\n",
        "        print('\\nF1 for current fold: ', f1_score(labels, preds>0.5))\n",
        "\n",
        "        out_of_fold[val_index] = preds\n",
        "\n",
        "        gc.enable()\n",
        "        del train_df, val_df\n",
        "        gc.collect()\n",
        "\n",
        "\n",
        "    print('Overall F1: ', f1_score(train_dataset['target'].to_numpy(), out_of_fold>0.5))\n",
        "    return out_of_fold"
      ],
      "execution_count": 0,
      "outputs": []
    },
    {
      "cell_type": "code",
      "metadata": {
        "id": "3tnacGa9srxM",
        "colab_type": "code",
        "outputId": "8f09ef2e-7129-49ab-ff87-17ab666c68bb",
        "colab": {
          "base_uri": "https://localhost:8080/",
          "height": 459
        }
      },
      "source": [
        "preds = cross_val(train_dataset, 5)"
      ],
      "execution_count": 0,
      "outputs": [
        {
          "output_type": "stream",
          "text": [
            "\n",
            "Number of training examples: 6090\n",
            "Number of testing examples: 1523\n",
            "\n",
            "F1 for current fold:  0.738799661876585\n",
            "\n",
            "Number of training examples: 6090\n",
            "Number of testing examples: 1523\n",
            "\n",
            "F1 for current fold:  0.7499999999999999\n",
            "\n",
            "Number of training examples: 6090\n",
            "Number of testing examples: 1523\n",
            "\n",
            "F1 for current fold:  0.7738004569687738\n",
            "\n",
            "Number of training examples: 6091\n",
            "Number of testing examples: 1522\n",
            "\n",
            "F1 for current fold:  0.7425343018563357\n",
            "\n",
            "Number of training examples: 6091\n",
            "Number of testing examples: 1522\n",
            "\n",
            "F1 for current fold:  0.7697211155378486\n",
            "Overall F1:  0.7553293032134902\n"
          ],
          "name": "stdout"
        }
      ]
    },
    {
      "cell_type": "code",
      "metadata": {
        "id": "g3ORbKGelmrJ",
        "colab_type": "code",
        "outputId": "b26d99ad-2fe1-467c-f33e-a554fae06b27",
        "colab": {
          "base_uri": "https://localhost:8080/",
          "height": 204
        }
      },
      "source": [
        "prediction = pd.DataFrame(preds, columns=['maxpool_lstm'])\n",
        "prediction.head()"
      ],
      "execution_count": 0,
      "outputs": [
        {
          "output_type": "execute_result",
          "data": {
            "text/html": [
              "<div>\n",
              "<style scoped>\n",
              "    .dataframe tbody tr th:only-of-type {\n",
              "        vertical-align: middle;\n",
              "    }\n",
              "\n",
              "    .dataframe tbody tr th {\n",
              "        vertical-align: top;\n",
              "    }\n",
              "\n",
              "    .dataframe thead th {\n",
              "        text-align: right;\n",
              "    }\n",
              "</style>\n",
              "<table border=\"1\" class=\"dataframe\">\n",
              "  <thead>\n",
              "    <tr style=\"text-align: right;\">\n",
              "      <th></th>\n",
              "      <th>maxpool_lstm</th>\n",
              "    </tr>\n",
              "  </thead>\n",
              "  <tbody>\n",
              "    <tr>\n",
              "      <th>0</th>\n",
              "      <td>0.000677</td>\n",
              "    </tr>\n",
              "    <tr>\n",
              "      <th>1</th>\n",
              "      <td>0.999308</td>\n",
              "    </tr>\n",
              "    <tr>\n",
              "      <th>2</th>\n",
              "      <td>0.992427</td>\n",
              "    </tr>\n",
              "    <tr>\n",
              "      <th>3</th>\n",
              "      <td>0.998412</td>\n",
              "    </tr>\n",
              "    <tr>\n",
              "      <th>4</th>\n",
              "      <td>0.998382</td>\n",
              "    </tr>\n",
              "  </tbody>\n",
              "</table>\n",
              "</div>"
            ],
            "text/plain": [
              "   maxpool_lstm\n",
              "0      0.000677\n",
              "1      0.999308\n",
              "2      0.992427\n",
              "3      0.998412\n",
              "4      0.998382"
            ]
          },
          "metadata": {
            "tags": []
          },
          "execution_count": 61
        }
      ]
    },
    {
      "cell_type": "markdown",
      "metadata": {
        "id": "o6pfCxWUkKoD",
        "colab_type": "text"
      },
      "source": [
        "Now, we will use all dataset to train our model:"
      ]
    },
    {
      "cell_type": "code",
      "metadata": {
        "id": "x-kxBKxJik3N",
        "colab_type": "code",
        "colab": {}
      },
      "source": [
        "train_dataset.to_csv(\"torchtext_data/train.csv\", index=False)"
      ],
      "execution_count": 0,
      "outputs": []
    },
    {
      "cell_type": "code",
      "metadata": {
        "id": "bM8Gzox4iTn7",
        "colab_type": "code",
        "colab": {}
      },
      "source": [
        "train_data = data.TabularDataset(path=\"torchtext_data/train.csv\", \n",
        "                                format=\"csv\", \n",
        "                                skip_header=True, \n",
        "                                fields=[('Text', TEXT), ('Label', LABEL)]\n",
        "                                )"
      ],
      "execution_count": 0,
      "outputs": []
    },
    {
      "cell_type": "code",
      "metadata": {
        "id": "uOFVg9RxjIJq",
        "colab_type": "code",
        "outputId": "064627f6-ed19-41f8-d24e-c031c3805059",
        "colab": {
          "base_uri": "https://localhost:8080/",
          "height": 34
        }
      },
      "source": [
        "print(f'Number of testing examples: {len(train_data)}')"
      ],
      "execution_count": 0,
      "outputs": [
        {
          "output_type": "stream",
          "text": [
            "Number of testing examples: 7613\n"
          ],
          "name": "stdout"
        }
      ]
    },
    {
      "cell_type": "markdown",
      "metadata": {
        "id": "RlUVPqph27JM",
        "colab_type": "text"
      },
      "source": [
        "Creating new iterator:"
      ]
    },
    {
      "cell_type": "code",
      "metadata": {
        "id": "-IFzCvyBjOKV",
        "colab_type": "code",
        "colab": {}
      },
      "source": [
        "batch_size = 16\n",
        "\n",
        "train_iterator = data.BucketIterator(train_data, \n",
        "                                      sort_key=lambda x: len(x.Text),\n",
        "                                      batch_size=batch_size,\n",
        "                                      device=device)"
      ],
      "execution_count": 0,
      "outputs": []
    },
    {
      "cell_type": "code",
      "metadata": {
        "id": "2PJwpL6Ujpj5",
        "colab_type": "code",
        "colab": {}
      },
      "source": [
        "model = LSTM2DMaxPoolClassifier(batch_size,\n",
        "                                output_size = 2,\n",
        "                                hidden_size = 32,\n",
        "                                vocab_size = len(TEXT.vocab),\n",
        "                                embedding_length = 300,\n",
        "                                num_layers = 1,\n",
        "                                weights = TEXT.vocab.vectors)"
      ],
      "execution_count": 0,
      "outputs": []
    },
    {
      "cell_type": "code",
      "metadata": {
        "id": "TAa9M6tzjpNK",
        "colab_type": "code",
        "colab": {}
      },
      "source": [
        "optimizer = optim.Adam(model.parameters(), lr=2e-3, weight_decay=4e-4)\n",
        "criterion = nn.CrossEntropyLoss()\n",
        "exp_lr_scheduler = lr_scheduler.StepLR(optimizer, step_size=3, gamma=0.05)\n",
        "\n",
        "model = model.to(device)\n",
        "criterion = criterion.to(device)"
      ],
      "execution_count": 0,
      "outputs": []
    },
    {
      "cell_type": "code",
      "metadata": {
        "id": "irMk4B9HjpIv",
        "colab_type": "code",
        "colab": {}
      },
      "source": [
        "train(model, criterion, optimizer, exp_lr_scheduler, train_iterator, batch_size, num_epochs = 7)"
      ],
      "execution_count": 0,
      "outputs": []
    },
    {
      "cell_type": "markdown",
      "metadata": {
        "id": "v3LY4KB23Aax",
        "colab_type": "text"
      },
      "source": [
        "Done!"
      ]
    },
    {
      "cell_type": "markdown",
      "metadata": {
        "id": "ed8GbS6MkpWS",
        "colab_type": "text"
      },
      "source": [
        "And let's make predictions for test dataset:"
      ]
    },
    {
      "cell_type": "code",
      "metadata": {
        "id": "uVDUnjkjQ4jz",
        "colab_type": "code",
        "outputId": "d3209881-f9fc-4c13-a0da-6f674390141c",
        "colab": {
          "base_uri": "https://localhost:8080/",
          "height": 204
        }
      },
      "source": [
        "test_dataset.head()"
      ],
      "execution_count": 0,
      "outputs": [
        {
          "output_type": "execute_result",
          "data": {
            "text/html": [
              "<div>\n",
              "<style scoped>\n",
              "    .dataframe tbody tr th:only-of-type {\n",
              "        vertical-align: middle;\n",
              "    }\n",
              "\n",
              "    .dataframe tbody tr th {\n",
              "        vertical-align: top;\n",
              "    }\n",
              "\n",
              "    .dataframe thead th {\n",
              "        text-align: right;\n",
              "    }\n",
              "</style>\n",
              "<table border=\"1\" class=\"dataframe\">\n",
              "  <thead>\n",
              "    <tr style=\"text-align: right;\">\n",
              "      <th></th>\n",
              "      <th>id</th>\n",
              "      <th>keyword</th>\n",
              "      <th>location</th>\n",
              "      <th>text</th>\n",
              "    </tr>\n",
              "  </thead>\n",
              "  <tbody>\n",
              "    <tr>\n",
              "      <th>0</th>\n",
              "      <td>0</td>\n",
              "      <td>NaN</td>\n",
              "      <td>NaN</td>\n",
              "      <td>Just happened a terrible car crash</td>\n",
              "    </tr>\n",
              "    <tr>\n",
              "      <th>1</th>\n",
              "      <td>2</td>\n",
              "      <td>NaN</td>\n",
              "      <td>NaN</td>\n",
              "      <td>Heard about #earthquake is different cities, s...</td>\n",
              "    </tr>\n",
              "    <tr>\n",
              "      <th>2</th>\n",
              "      <td>3</td>\n",
              "      <td>NaN</td>\n",
              "      <td>NaN</td>\n",
              "      <td>there is a forest fire at spot pond, geese are...</td>\n",
              "    </tr>\n",
              "    <tr>\n",
              "      <th>3</th>\n",
              "      <td>9</td>\n",
              "      <td>NaN</td>\n",
              "      <td>NaN</td>\n",
              "      <td>Apocalypse lighting. #Spokane #wildfires</td>\n",
              "    </tr>\n",
              "    <tr>\n",
              "      <th>4</th>\n",
              "      <td>11</td>\n",
              "      <td>NaN</td>\n",
              "      <td>NaN</td>\n",
              "      <td>Typhoon Soudelor kills 28 in China and Taiwan</td>\n",
              "    </tr>\n",
              "  </tbody>\n",
              "</table>\n",
              "</div>"
            ],
            "text/plain": [
              "   id keyword location                                               text\n",
              "0   0     NaN      NaN                 Just happened a terrible car crash\n",
              "1   2     NaN      NaN  Heard about #earthquake is different cities, s...\n",
              "2   3     NaN      NaN  there is a forest fire at spot pond, geese are...\n",
              "3   9     NaN      NaN           Apocalypse lighting. #Spokane #wildfires\n",
              "4  11     NaN      NaN      Typhoon Soudelor kills 28 in China and Taiwan"
            ]
          },
          "metadata": {
            "tags": []
          },
          "execution_count": 69
        }
      ]
    },
    {
      "cell_type": "code",
      "metadata": {
        "id": "pfEd688FQ4e5",
        "colab_type": "code",
        "colab": {}
      },
      "source": [
        "test_dataset.to_csv(\"torchtext_data/test.csv\", index=False)"
      ],
      "execution_count": 0,
      "outputs": []
    },
    {
      "cell_type": "code",
      "metadata": {
        "id": "TCAq9enCQ4by",
        "colab_type": "code",
        "colab": {}
      },
      "source": [
        "test_data = data.TabularDataset(path=\"torchtext_data/test.csv\", \n",
        "                                format=\"csv\", \n",
        "                                skip_header=True, \n",
        "                                fields=[('Text', TEXT)]\n",
        "                                )"
      ],
      "execution_count": 0,
      "outputs": []
    },
    {
      "cell_type": "code",
      "metadata": {
        "id": "6MVFZJLGrOo-",
        "colab_type": "code",
        "colab": {}
      },
      "source": [
        "test_size = len(test_data)"
      ],
      "execution_count": 0,
      "outputs": []
    },
    {
      "cell_type": "code",
      "metadata": {
        "id": "-SauLyowplfY",
        "colab_type": "code",
        "outputId": "58274b3a-d350-4455-e3c0-3843175eb301",
        "colab": {
          "base_uri": "https://localhost:8080/",
          "height": 34
        }
      },
      "source": [
        "print(f'Number of testing examples: {test_size}')"
      ],
      "execution_count": 0,
      "outputs": [
        {
          "output_type": "stream",
          "text": [
            "Number of testing examples: 3263\n"
          ],
          "name": "stdout"
        }
      ]
    },
    {
      "cell_type": "code",
      "metadata": {
        "id": "FjOvt7nVplc-",
        "colab_type": "code",
        "colab": {}
      },
      "source": [
        "batch_size = 16\n",
        "\n",
        "# keep in mind the sort_key option \n",
        "test_iterator = data.BucketIterator(test_data,\n",
        "                                    train=False,\n",
        "                                    sort = False,\n",
        "                                    sort_within_batch=False,\n",
        "                                    repeat=False,\n",
        "                                    batch_size=batch_size,\n",
        "                                    device=device)"
      ],
      "execution_count": 0,
      "outputs": []
    },
    {
      "cell_type": "code",
      "metadata": {
        "id": "M0ML4Ib8plbF",
        "colab_type": "code",
        "colab": {}
      },
      "source": [
        "test_preds = test(model, criterion, optimizer, test_iterator, batch_size, test_size)"
      ],
      "execution_count": 0,
      "outputs": []
    },
    {
      "cell_type": "code",
      "metadata": {
        "id": "kx5uBdT-mM3_",
        "colab_type": "code",
        "colab": {}
      },
      "source": [
        "test_prediction = pd.DataFrame(test_preds, columns=['maxpool_lstm'])"
      ],
      "execution_count": 0,
      "outputs": []
    },
    {
      "cell_type": "code",
      "metadata": {
        "id": "wxmHhdE0nGtu",
        "colab_type": "code",
        "colab": {}
      },
      "source": [
        "prediction.to_csv('/content/drive/My Drive/tweeter/train_predictions_maxp.csv', index_label='idx')\n",
        "test_prediction.to_csv('/content/drive/My Drive/tweeter/test_predictions_maxp.csv', index_label='idx')"
      ],
      "execution_count": 0,
      "outputs": []
    },
    {
      "cell_type": "code",
      "metadata": {
        "id": "F36aHZMonGYn",
        "colab_type": "code",
        "colab": {}
      },
      "source": [
        ""
      ],
      "execution_count": 0,
      "outputs": []
    },
    {
      "cell_type": "markdown",
      "metadata": {
        "id": "KQINA_cO0hTL",
        "colab_type": "text"
      },
      "source": [
        "The threshold of 0.7 get a higher score on the public leaderboard, but our aim is to use prediction as meta-parameters, so it doesn't matter which threshold to choose."
      ]
    },
    {
      "cell_type": "code",
      "metadata": {
        "id": "u3god-GXxXtg",
        "colab_type": "code",
        "colab": {}
      },
      "source": [
        "# pred_labels = (preds>0.7).astype(int)"
      ],
      "execution_count": 0,
      "outputs": []
    },
    {
      "cell_type": "code",
      "metadata": {
        "id": "QMnR1vpC18rO",
        "colab_type": "code",
        "colab": {}
      },
      "source": [
        "# test_dataset = pd.read_csv('test.csv')\n",
        "# sub = pd.concat([test_dataset['id'], pd.Series(pred_labels, name='target')], axis=1)"
      ],
      "execution_count": 0,
      "outputs": []
    },
    {
      "cell_type": "code",
      "metadata": {
        "id": "-9het8S14nGq",
        "colab_type": "code",
        "outputId": "d6cfc62e-d17a-4e4d-ba3f-d576b26f91c2",
        "colab": {
          "base_uri": "https://localhost:8080/",
          "height": 204
        }
      },
      "source": [
        "# sub.head()"
      ],
      "execution_count": 0,
      "outputs": [
        {
          "output_type": "execute_result",
          "data": {
            "text/html": [
              "<div>\n",
              "<style scoped>\n",
              "    .dataframe tbody tr th:only-of-type {\n",
              "        vertical-align: middle;\n",
              "    }\n",
              "\n",
              "    .dataframe tbody tr th {\n",
              "        vertical-align: top;\n",
              "    }\n",
              "\n",
              "    .dataframe thead th {\n",
              "        text-align: right;\n",
              "    }\n",
              "</style>\n",
              "<table border=\"1\" class=\"dataframe\">\n",
              "  <thead>\n",
              "    <tr style=\"text-align: right;\">\n",
              "      <th></th>\n",
              "      <th>id</th>\n",
              "      <th>target</th>\n",
              "    </tr>\n",
              "  </thead>\n",
              "  <tbody>\n",
              "    <tr>\n",
              "      <th>0</th>\n",
              "      <td>0</td>\n",
              "      <td>1</td>\n",
              "    </tr>\n",
              "    <tr>\n",
              "      <th>1</th>\n",
              "      <td>2</td>\n",
              "      <td>0</td>\n",
              "    </tr>\n",
              "    <tr>\n",
              "      <th>2</th>\n",
              "      <td>3</td>\n",
              "      <td>1</td>\n",
              "    </tr>\n",
              "    <tr>\n",
              "      <th>3</th>\n",
              "      <td>9</td>\n",
              "      <td>0</td>\n",
              "    </tr>\n",
              "    <tr>\n",
              "      <th>4</th>\n",
              "      <td>11</td>\n",
              "      <td>1</td>\n",
              "    </tr>\n",
              "  </tbody>\n",
              "</table>\n",
              "</div>"
            ],
            "text/plain": [
              "   id  target\n",
              "0   0       1\n",
              "1   2       0\n",
              "2   3       1\n",
              "3   9       0\n",
              "4  11       1"
            ]
          },
          "metadata": {
            "tags": []
          },
          "execution_count": 56
        }
      ]
    },
    {
      "cell_type": "code",
      "metadata": {
        "id": "eO2XCkq07EfP",
        "colab_type": "code",
        "colab": {}
      },
      "source": [
        "# sub.to_csv('sub.csv', index=False)"
      ],
      "execution_count": 0,
      "outputs": []
    },
    {
      "cell_type": "code",
      "metadata": {
        "id": "L9GsVYiR7KzQ",
        "colab_type": "code",
        "outputId": "db1a22a3-7c45-4122-b0b0-91003ac6a8f6",
        "colab": {
          "base_uri": "https://localhost:8080/",
          "height": 187
        }
      },
      "source": [
        "# !head sub.csv"
      ],
      "execution_count": 0,
      "outputs": [
        {
          "output_type": "stream",
          "text": [
            "id,target\n",
            "0,1\n",
            "2,0\n",
            "3,1\n",
            "9,0\n",
            "11,1\n",
            "12,0\n",
            "21,0\n",
            "22,0\n",
            "27,0\n"
          ],
          "name": "stdout"
        }
      ]
    },
    {
      "cell_type": "code",
      "metadata": {
        "id": "iUWqk_gX7Ocl",
        "colab_type": "code",
        "outputId": "82ade840-7535-4c0d-df7a-ace0d1124637",
        "colab": {
          "base_uri": "https://localhost:8080/",
          "height": 68
        }
      },
      "source": [
        "# !kaggle competitions submit -c nlp-getting-started -f sub.csv -m \"Message\""
      ],
      "execution_count": 0,
      "outputs": [
        {
          "output_type": "stream",
          "text": [
            "Warning: Looks like you're using an outdated API Version, please consider updating (server 1.5.6 / client 1.5.4)\n",
            "100% 22.2k/22.2k [00:03<00:00, 6.64kB/s]\n",
            "Successfully submitted to Real or Not? NLP with Disaster Tweets"
          ],
          "name": "stdout"
        }
      ]
    }
  ]
}