{
  "nbformat": 4,
  "nbformat_minor": 0,
  "metadata": {
    "colab": {
      "name": "TagsWithGlove.ipynb",
      "provenance": [],
      "collapsed_sections": []
    },
    "kernelspec": {
      "name": "python3",
      "display_name": "Python 3"
    },
    "accelerator": "GPU"
  },
  "cells": [
    {
      "cell_type": "code",
      "metadata": {
        "id": "w_ZCEdoaT7Ge",
        "colab_type": "code",
        "outputId": "a91f8162-99b5-4b82-96e3-b6422ff2da71",
        "colab": {
          "base_uri": "https://localhost:8080/",
          "height": 54
        }
      },
      "source": [
        "from google.colab import drive\n",
        "drive.mount('/content/drive')"
      ],
      "execution_count": 3,
      "outputs": [
        {
          "output_type": "stream",
          "text": [
            "Drive already mounted at /content/drive; to attempt to forcibly remount, call drive.mount(\"/content/drive\", force_remount=True).\n"
          ],
          "name": "stdout"
        }
      ]
    },
    {
      "cell_type": "code",
      "metadata": {
        "id": "EjCT0zwlT_q5",
        "colab_type": "code",
        "colab": {}
      },
      "source": [
        "!cp /content/drive/'My Drive'/kaggle.json .\n",
        "!cp /content/drive/'My Drive'/tweeter/utils_for_ml.py ."
      ],
      "execution_count": 0,
      "outputs": []
    },
    {
      "cell_type": "code",
      "metadata": {
        "id": "EoW-t3Q4T_oc",
        "colab_type": "code",
        "colab": {}
      },
      "source": [
        "!mkdir ~/.kaggle\n",
        "!mv kaggle.json ~/.kaggle"
      ],
      "execution_count": 0,
      "outputs": []
    },
    {
      "cell_type": "code",
      "metadata": {
        "id": "7OuT5oNGT_ln",
        "colab_type": "code",
        "outputId": "25bcd685-0a89-4162-a3bf-c012b510dc4c",
        "colab": {
          "base_uri": "https://localhost:8080/",
          "height": 187
        }
      },
      "source": [
        "!kaggle competitions download -c nlp-getting-started"
      ],
      "execution_count": 6,
      "outputs": [
        {
          "output_type": "stream",
          "text": [
            "Warning: Looks like you're using an outdated API Version, please consider updating (server 1.5.6 / client 1.5.4)\n",
            "Downloading train.csv to /content\n",
            "  0% 0.00/965k [00:00<?, ?B/s]\n",
            "100% 965k/965k [00:00<00:00, 63.9MB/s]\n",
            "Downloading test.csv to /content\n",
            "  0% 0.00/411k [00:00<?, ?B/s]\n",
            "100% 411k/411k [00:00<00:00, 127MB/s]\n",
            "Downloading sample_submission.csv to /content\n",
            "  0% 0.00/22.2k [00:00<?, ?B/s]\n",
            "100% 22.2k/22.2k [00:00<00:00, 22.9MB/s]\n"
          ],
          "name": "stdout"
        }
      ]
    },
    {
      "cell_type": "code",
      "metadata": {
        "id": "KcsmTIRvXF2G",
        "colab_type": "code",
        "colab": {}
      },
      "source": [
        "import pandas as pd\n",
        "import numpy as np\n",
        "\n",
        "import matplotlib.pyplot as plt\n",
        "\n",
        "from sklearn.svm import SVC\n",
        "from sklearn.neighbors import KNeighborsClassifier\n",
        "\n",
        "from scipy import spatial\n",
        "\n",
        "import csv\n",
        "import re\n",
        "\n",
        "from utils_for_ml import *"
      ],
      "execution_count": 0,
      "outputs": []
    },
    {
      "cell_type": "code",
      "metadata": {
        "id": "uz_JVeCXT_gq",
        "colab_type": "code",
        "colab": {}
      },
      "source": [
        "train = pd.read_csv('train.csv')\n",
        "test = pd.read_csv('test.csv')"
      ],
      "execution_count": 0,
      "outputs": []
    },
    {
      "cell_type": "markdown",
      "metadata": {
        "id": "Ca3sfWMvlCXu",
        "colab_type": "text"
      },
      "source": [
        "##Feature engineering:"
      ]
    },
    {
      "cell_type": "markdown",
      "metadata": {
        "id": "M89QggzBSKVE",
        "colab_type": "text"
      },
      "source": [
        "Extracting tags:"
      ]
    },
    {
      "cell_type": "code",
      "metadata": {
        "id": "kTeEdna6XOP9",
        "colab_type": "code",
        "colab": {}
      },
      "source": [
        "train['tags'] = train['text'].str.findall(r'#.*?(?=\\s|$)')\n",
        "test['tags'] = test['text'].str.findall(r'#.*?(?=\\s|$)')"
      ],
      "execution_count": 0,
      "outputs": []
    },
    {
      "cell_type": "code",
      "metadata": {
        "id": "iXz4trVmXbz2",
        "colab_type": "code",
        "outputId": "2631a57e-ffa9-4e6f-fe32-5e6b90b3b6e7",
        "colab": {
          "base_uri": "https://localhost:8080/",
          "height": 359
        }
      },
      "source": [
        "train.head(10)"
      ],
      "execution_count": 10,
      "outputs": [
        {
          "output_type": "execute_result",
          "data": {
            "text/html": [
              "<div>\n",
              "<style scoped>\n",
              "    .dataframe tbody tr th:only-of-type {\n",
              "        vertical-align: middle;\n",
              "    }\n",
              "\n",
              "    .dataframe tbody tr th {\n",
              "        vertical-align: top;\n",
              "    }\n",
              "\n",
              "    .dataframe thead th {\n",
              "        text-align: right;\n",
              "    }\n",
              "</style>\n",
              "<table border=\"1\" class=\"dataframe\">\n",
              "  <thead>\n",
              "    <tr style=\"text-align: right;\">\n",
              "      <th></th>\n",
              "      <th>id</th>\n",
              "      <th>keyword</th>\n",
              "      <th>location</th>\n",
              "      <th>text</th>\n",
              "      <th>target</th>\n",
              "      <th>tags</th>\n",
              "    </tr>\n",
              "  </thead>\n",
              "  <tbody>\n",
              "    <tr>\n",
              "      <th>0</th>\n",
              "      <td>1</td>\n",
              "      <td>NaN</td>\n",
              "      <td>NaN</td>\n",
              "      <td>Our Deeds are the Reason of this #earthquake M...</td>\n",
              "      <td>1</td>\n",
              "      <td>[#earthquake]</td>\n",
              "    </tr>\n",
              "    <tr>\n",
              "      <th>1</th>\n",
              "      <td>4</td>\n",
              "      <td>NaN</td>\n",
              "      <td>NaN</td>\n",
              "      <td>Forest fire near La Ronge Sask. Canada</td>\n",
              "      <td>1</td>\n",
              "      <td>[]</td>\n",
              "    </tr>\n",
              "    <tr>\n",
              "      <th>2</th>\n",
              "      <td>5</td>\n",
              "      <td>NaN</td>\n",
              "      <td>NaN</td>\n",
              "      <td>All residents asked to 'shelter in place' are ...</td>\n",
              "      <td>1</td>\n",
              "      <td>[]</td>\n",
              "    </tr>\n",
              "    <tr>\n",
              "      <th>3</th>\n",
              "      <td>6</td>\n",
              "      <td>NaN</td>\n",
              "      <td>NaN</td>\n",
              "      <td>13,000 people receive #wildfires evacuation or...</td>\n",
              "      <td>1</td>\n",
              "      <td>[#wildfires]</td>\n",
              "    </tr>\n",
              "    <tr>\n",
              "      <th>4</th>\n",
              "      <td>7</td>\n",
              "      <td>NaN</td>\n",
              "      <td>NaN</td>\n",
              "      <td>Just got sent this photo from Ruby #Alaska as ...</td>\n",
              "      <td>1</td>\n",
              "      <td>[#Alaska, #wildfires]</td>\n",
              "    </tr>\n",
              "    <tr>\n",
              "      <th>5</th>\n",
              "      <td>8</td>\n",
              "      <td>NaN</td>\n",
              "      <td>NaN</td>\n",
              "      <td>#RockyFire Update =&gt; California Hwy. 20 closed...</td>\n",
              "      <td>1</td>\n",
              "      <td>[#RockyFire, #CAfire, #wildfires]</td>\n",
              "    </tr>\n",
              "    <tr>\n",
              "      <th>6</th>\n",
              "      <td>10</td>\n",
              "      <td>NaN</td>\n",
              "      <td>NaN</td>\n",
              "      <td>#flood #disaster Heavy rain causes flash flood...</td>\n",
              "      <td>1</td>\n",
              "      <td>[#flood, #disaster]</td>\n",
              "    </tr>\n",
              "    <tr>\n",
              "      <th>7</th>\n",
              "      <td>13</td>\n",
              "      <td>NaN</td>\n",
              "      <td>NaN</td>\n",
              "      <td>I'm on top of the hill and I can see a fire in...</td>\n",
              "      <td>1</td>\n",
              "      <td>[]</td>\n",
              "    </tr>\n",
              "    <tr>\n",
              "      <th>8</th>\n",
              "      <td>14</td>\n",
              "      <td>NaN</td>\n",
              "      <td>NaN</td>\n",
              "      <td>There's an emergency evacuation happening now ...</td>\n",
              "      <td>1</td>\n",
              "      <td>[]</td>\n",
              "    </tr>\n",
              "    <tr>\n",
              "      <th>9</th>\n",
              "      <td>15</td>\n",
              "      <td>NaN</td>\n",
              "      <td>NaN</td>\n",
              "      <td>I'm afraid that the tornado is coming to our a...</td>\n",
              "      <td>1</td>\n",
              "      <td>[]</td>\n",
              "    </tr>\n",
              "  </tbody>\n",
              "</table>\n",
              "</div>"
            ],
            "text/plain": [
              "   id keyword  ... target                               tags\n",
              "0   1     NaN  ...      1                      [#earthquake]\n",
              "1   4     NaN  ...      1                                 []\n",
              "2   5     NaN  ...      1                                 []\n",
              "3   6     NaN  ...      1                       [#wildfires]\n",
              "4   7     NaN  ...      1              [#Alaska, #wildfires]\n",
              "5   8     NaN  ...      1  [#RockyFire, #CAfire, #wildfires]\n",
              "6  10     NaN  ...      1                [#flood, #disaster]\n",
              "7  13     NaN  ...      1                                 []\n",
              "8  14     NaN  ...      1                                 []\n",
              "9  15     NaN  ...      1                                 []\n",
              "\n",
              "[10 rows x 6 columns]"
            ]
          },
          "metadata": {
            "tags": []
          },
          "execution_count": 10
        }
      ]
    },
    {
      "cell_type": "markdown",
      "metadata": {
        "id": "p2qHGXB_SbX2",
        "colab_type": "text"
      },
      "source": [
        "Let's add some extra columns that will show rows with an empty list, I think that it can be a good feature for future model:"
      ]
    },
    {
      "cell_type": "code",
      "metadata": {
        "id": "UdNFmo0tSR5N",
        "colab_type": "code",
        "colab": {}
      },
      "source": [
        "train['no_tags'] = train['tags'].apply(lambda tags: True if len(tags)==0 else False)\n",
        "test['no_tags'] = test['tags'].apply(lambda tags: True if len(tags)==0 else False)"
      ],
      "execution_count": 0,
      "outputs": []
    },
    {
      "cell_type": "markdown",
      "metadata": {
        "id": "V_9BZVyaTktW",
        "colab_type": "text"
      },
      "source": [
        "And let's make the same extra feature for 'location' column:"
      ]
    },
    {
      "cell_type": "code",
      "metadata": {
        "id": "Dc5DqvUCTwDF",
        "colab_type": "code",
        "colab": {}
      },
      "source": [
        "train['no_location'] = train['location'].isna()\n",
        "test['no_location'] = test['location'].isna()"
      ],
      "execution_count": 0,
      "outputs": []
    },
    {
      "cell_type": "markdown",
      "metadata": {
        "id": "CvZk5owUVh6Y",
        "colab_type": "text"
      },
      "source": [
        "Let's have a look at our changes:"
      ]
    },
    {
      "cell_type": "code",
      "metadata": {
        "id": "8DfsJ0XrVcXC",
        "colab_type": "code",
        "outputId": "04fb4f3c-92e6-4201-b627-bfda362c3f9b",
        "colab": {
          "base_uri": "https://localhost:8080/",
          "height": 204
        }
      },
      "source": [
        "train.head()"
      ],
      "execution_count": 13,
      "outputs": [
        {
          "output_type": "execute_result",
          "data": {
            "text/html": [
              "<div>\n",
              "<style scoped>\n",
              "    .dataframe tbody tr th:only-of-type {\n",
              "        vertical-align: middle;\n",
              "    }\n",
              "\n",
              "    .dataframe tbody tr th {\n",
              "        vertical-align: top;\n",
              "    }\n",
              "\n",
              "    .dataframe thead th {\n",
              "        text-align: right;\n",
              "    }\n",
              "</style>\n",
              "<table border=\"1\" class=\"dataframe\">\n",
              "  <thead>\n",
              "    <tr style=\"text-align: right;\">\n",
              "      <th></th>\n",
              "      <th>id</th>\n",
              "      <th>keyword</th>\n",
              "      <th>location</th>\n",
              "      <th>text</th>\n",
              "      <th>target</th>\n",
              "      <th>tags</th>\n",
              "      <th>no_tags</th>\n",
              "      <th>no_location</th>\n",
              "    </tr>\n",
              "  </thead>\n",
              "  <tbody>\n",
              "    <tr>\n",
              "      <th>0</th>\n",
              "      <td>1</td>\n",
              "      <td>NaN</td>\n",
              "      <td>NaN</td>\n",
              "      <td>Our Deeds are the Reason of this #earthquake M...</td>\n",
              "      <td>1</td>\n",
              "      <td>[#earthquake]</td>\n",
              "      <td>False</td>\n",
              "      <td>True</td>\n",
              "    </tr>\n",
              "    <tr>\n",
              "      <th>1</th>\n",
              "      <td>4</td>\n",
              "      <td>NaN</td>\n",
              "      <td>NaN</td>\n",
              "      <td>Forest fire near La Ronge Sask. Canada</td>\n",
              "      <td>1</td>\n",
              "      <td>[]</td>\n",
              "      <td>True</td>\n",
              "      <td>True</td>\n",
              "    </tr>\n",
              "    <tr>\n",
              "      <th>2</th>\n",
              "      <td>5</td>\n",
              "      <td>NaN</td>\n",
              "      <td>NaN</td>\n",
              "      <td>All residents asked to 'shelter in place' are ...</td>\n",
              "      <td>1</td>\n",
              "      <td>[]</td>\n",
              "      <td>True</td>\n",
              "      <td>True</td>\n",
              "    </tr>\n",
              "    <tr>\n",
              "      <th>3</th>\n",
              "      <td>6</td>\n",
              "      <td>NaN</td>\n",
              "      <td>NaN</td>\n",
              "      <td>13,000 people receive #wildfires evacuation or...</td>\n",
              "      <td>1</td>\n",
              "      <td>[#wildfires]</td>\n",
              "      <td>False</td>\n",
              "      <td>True</td>\n",
              "    </tr>\n",
              "    <tr>\n",
              "      <th>4</th>\n",
              "      <td>7</td>\n",
              "      <td>NaN</td>\n",
              "      <td>NaN</td>\n",
              "      <td>Just got sent this photo from Ruby #Alaska as ...</td>\n",
              "      <td>1</td>\n",
              "      <td>[#Alaska, #wildfires]</td>\n",
              "      <td>False</td>\n",
              "      <td>True</td>\n",
              "    </tr>\n",
              "  </tbody>\n",
              "</table>\n",
              "</div>"
            ],
            "text/plain": [
              "   id keyword location  ...                   tags  no_tags no_location\n",
              "0   1     NaN      NaN  ...          [#earthquake]    False        True\n",
              "1   4     NaN      NaN  ...                     []     True        True\n",
              "2   5     NaN      NaN  ...                     []     True        True\n",
              "3   6     NaN      NaN  ...           [#wildfires]    False        True\n",
              "4   7     NaN      NaN  ...  [#Alaska, #wildfires]    False        True\n",
              "\n",
              "[5 rows x 8 columns]"
            ]
          },
          "metadata": {
            "tags": []
          },
          "execution_count": 13
        }
      ]
    },
    {
      "cell_type": "markdown",
      "metadata": {
        "id": "7EBIJAa1V04-",
        "colab_type": "text"
      },
      "source": [
        "As I didn't get good results using tags as features, even trying to apply lemmatization or stemming I will try to use pre-trained GloVe vectors for each tag. I hope that tags that are semantical similar will be close in space of GloVe vectors."
      ]
    },
    {
      "cell_type": "code",
      "metadata": {
        "id": "REvydtrw4BO1",
        "colab_type": "code",
        "colab": {}
      },
      "source": [
        "words = pd.read_table('/content/drive/My Drive/GloVe/glove.twitter.27B.200d.txt',\n",
        "                      sep=\" \",\n",
        "                      index_col=0,\n",
        "                      header=None,\n",
        "                      quoting=csv.QUOTE_NONE)"
      ],
      "execution_count": 0,
      "outputs": []
    },
    {
      "cell_type": "code",
      "metadata": {
        "id": "0Y4aYz754T9p",
        "colab_type": "code",
        "colab": {}
      },
      "source": [
        "def vec(word):\n",
        "  try:\n",
        "    return words.loc[word].values\n",
        "  except:\n",
        "    return np.zeros((200,))"
      ],
      "execution_count": 0,
      "outputs": []
    },
    {
      "cell_type": "markdown",
      "metadata": {
        "id": "J3QA4VVMYA33",
        "colab_type": "text"
      },
      "source": [
        "Replacing '#' and lowercasing to get vectors:"
      ]
    },
    {
      "cell_type": "code",
      "metadata": {
        "id": "YM8VnXf64AFB",
        "colab_type": "code",
        "colab": {}
      },
      "source": [
        "train['tags'] = train['tags'].apply(lambda tags: [tag.lower().replace('#', '') for tag in tags])\n",
        "test['tags'] = test['tags'].apply(lambda tags: [tag.lower().replace('#', '') for tag in tags])"
      ],
      "execution_count": 0,
      "outputs": []
    },
    {
      "cell_type": "markdown",
      "metadata": {
        "id": "deJak6FKYNmv",
        "colab_type": "text"
      },
      "source": [
        "Adding new columns of vectors:"
      ]
    },
    {
      "cell_type": "code",
      "metadata": {
        "id": "0GMv6raN3_5v",
        "colab_type": "code",
        "colab": {}
      },
      "source": [
        "train['tags_vectors'] = train['tags'].apply(lambda tags: [vec(tag) for tag in tags])\n",
        "test['tags_vectors'] = test['tags'].apply(lambda tags: [vec(tag) for tag in tags])"
      ],
      "execution_count": 0,
      "outputs": []
    },
    {
      "cell_type": "code",
      "metadata": {
        "id": "ZW2-lm85GHE2",
        "colab_type": "code",
        "outputId": "15d2e4ff-dfc4-44c7-ab23-19c888c6ad2e",
        "colab": {
          "base_uri": "https://localhost:8080/",
          "height": 323
        }
      },
      "source": [
        "train.head()"
      ],
      "execution_count": 18,
      "outputs": [
        {
          "output_type": "execute_result",
          "data": {
            "text/html": [
              "<div>\n",
              "<style scoped>\n",
              "    .dataframe tbody tr th:only-of-type {\n",
              "        vertical-align: middle;\n",
              "    }\n",
              "\n",
              "    .dataframe tbody tr th {\n",
              "        vertical-align: top;\n",
              "    }\n",
              "\n",
              "    .dataframe thead th {\n",
              "        text-align: right;\n",
              "    }\n",
              "</style>\n",
              "<table border=\"1\" class=\"dataframe\">\n",
              "  <thead>\n",
              "    <tr style=\"text-align: right;\">\n",
              "      <th></th>\n",
              "      <th>id</th>\n",
              "      <th>keyword</th>\n",
              "      <th>location</th>\n",
              "      <th>text</th>\n",
              "      <th>target</th>\n",
              "      <th>tags</th>\n",
              "      <th>no_tags</th>\n",
              "      <th>no_location</th>\n",
              "      <th>tags_vectors</th>\n",
              "    </tr>\n",
              "  </thead>\n",
              "  <tbody>\n",
              "    <tr>\n",
              "      <th>0</th>\n",
              "      <td>1</td>\n",
              "      <td>NaN</td>\n",
              "      <td>NaN</td>\n",
              "      <td>Our Deeds are the Reason of this #earthquake M...</td>\n",
              "      <td>1</td>\n",
              "      <td>[earthquake]</td>\n",
              "      <td>False</td>\n",
              "      <td>True</td>\n",
              "      <td>[[-0.32275, 0.14165, 0.053551, -0.53203, -0.14...</td>\n",
              "    </tr>\n",
              "    <tr>\n",
              "      <th>1</th>\n",
              "      <td>4</td>\n",
              "      <td>NaN</td>\n",
              "      <td>NaN</td>\n",
              "      <td>Forest fire near La Ronge Sask. Canada</td>\n",
              "      <td>1</td>\n",
              "      <td>[]</td>\n",
              "      <td>True</td>\n",
              "      <td>True</td>\n",
              "      <td>[]</td>\n",
              "    </tr>\n",
              "    <tr>\n",
              "      <th>2</th>\n",
              "      <td>5</td>\n",
              "      <td>NaN</td>\n",
              "      <td>NaN</td>\n",
              "      <td>All residents asked to 'shelter in place' are ...</td>\n",
              "      <td>1</td>\n",
              "      <td>[]</td>\n",
              "      <td>True</td>\n",
              "      <td>True</td>\n",
              "      <td>[]</td>\n",
              "    </tr>\n",
              "    <tr>\n",
              "      <th>3</th>\n",
              "      <td>6</td>\n",
              "      <td>NaN</td>\n",
              "      <td>NaN</td>\n",
              "      <td>13,000 people receive #wildfires evacuation or...</td>\n",
              "      <td>1</td>\n",
              "      <td>[wildfires]</td>\n",
              "      <td>False</td>\n",
              "      <td>True</td>\n",
              "      <td>[[0.27762, 0.31333, -0.89246, -0.050292, -0.59...</td>\n",
              "    </tr>\n",
              "    <tr>\n",
              "      <th>4</th>\n",
              "      <td>7</td>\n",
              "      <td>NaN</td>\n",
              "      <td>NaN</td>\n",
              "      <td>Just got sent this photo from Ruby #Alaska as ...</td>\n",
              "      <td>1</td>\n",
              "      <td>[alaska, wildfires]</td>\n",
              "      <td>False</td>\n",
              "      <td>True</td>\n",
              "      <td>[[-0.27928000000000003, -0.067628, -0.50753, -...</td>\n",
              "    </tr>\n",
              "  </tbody>\n",
              "</table>\n",
              "</div>"
            ],
            "text/plain": [
              "   id keyword  ... no_location                                       tags_vectors\n",
              "0   1     NaN  ...        True  [[-0.32275, 0.14165, 0.053551, -0.53203, -0.14...\n",
              "1   4     NaN  ...        True                                                 []\n",
              "2   5     NaN  ...        True                                                 []\n",
              "3   6     NaN  ...        True  [[0.27762, 0.31333, -0.89246, -0.050292, -0.59...\n",
              "4   7     NaN  ...        True  [[-0.27928000000000003, -0.067628, -0.50753, -...\n",
              "\n",
              "[5 rows x 9 columns]"
            ]
          },
          "metadata": {
            "tags": []
          },
          "execution_count": 18
        }
      ]
    },
    {
      "cell_type": "code",
      "metadata": {
        "id": "JxFy0EwbEVGX",
        "colab_type": "code",
        "colab": {}
      },
      "source": [
        "def empty_list(tags):\n",
        "  if len(tags) == 0:\n",
        "    tags.append(np.zeros((200,)))\n",
        "    return tags\n",
        "  else:\n",
        "    return tags"
      ],
      "execution_count": 0,
      "outputs": []
    },
    {
      "cell_type": "markdown",
      "metadata": {
        "id": "VH-7yPVbYhCM",
        "colab_type": "text"
      },
      "source": [
        "As some of lists are empty we need to represent them as vectors too. I will use zeros for them:"
      ]
    },
    {
      "cell_type": "code",
      "metadata": {
        "id": "Ck1PD11TBXrR",
        "colab_type": "code",
        "colab": {}
      },
      "source": [
        "train['tags_vectors'] = train['tags_vectors'].apply(lambda tags: empty_list(tags))\n",
        "test['tags_vectors'] = test['tags_vectors'].apply(lambda tags: empty_list(tags))"
      ],
      "execution_count": 0,
      "outputs": []
    },
    {
      "cell_type": "code",
      "metadata": {
        "id": "uqvMz2jAGLvY",
        "colab_type": "code",
        "outputId": "f2ec218c-5547-46a4-a7c1-7ac89d17f097",
        "colab": {
          "base_uri": "https://localhost:8080/",
          "height": 323
        }
      },
      "source": [
        "train.head()"
      ],
      "execution_count": 21,
      "outputs": [
        {
          "output_type": "execute_result",
          "data": {
            "text/html": [
              "<div>\n",
              "<style scoped>\n",
              "    .dataframe tbody tr th:only-of-type {\n",
              "        vertical-align: middle;\n",
              "    }\n",
              "\n",
              "    .dataframe tbody tr th {\n",
              "        vertical-align: top;\n",
              "    }\n",
              "\n",
              "    .dataframe thead th {\n",
              "        text-align: right;\n",
              "    }\n",
              "</style>\n",
              "<table border=\"1\" class=\"dataframe\">\n",
              "  <thead>\n",
              "    <tr style=\"text-align: right;\">\n",
              "      <th></th>\n",
              "      <th>id</th>\n",
              "      <th>keyword</th>\n",
              "      <th>location</th>\n",
              "      <th>text</th>\n",
              "      <th>target</th>\n",
              "      <th>tags</th>\n",
              "      <th>no_tags</th>\n",
              "      <th>no_location</th>\n",
              "      <th>tags_vectors</th>\n",
              "    </tr>\n",
              "  </thead>\n",
              "  <tbody>\n",
              "    <tr>\n",
              "      <th>0</th>\n",
              "      <td>1</td>\n",
              "      <td>NaN</td>\n",
              "      <td>NaN</td>\n",
              "      <td>Our Deeds are the Reason of this #earthquake M...</td>\n",
              "      <td>1</td>\n",
              "      <td>[earthquake]</td>\n",
              "      <td>False</td>\n",
              "      <td>True</td>\n",
              "      <td>[[-0.32275, 0.14165, 0.053551, -0.53203, -0.14...</td>\n",
              "    </tr>\n",
              "    <tr>\n",
              "      <th>1</th>\n",
              "      <td>4</td>\n",
              "      <td>NaN</td>\n",
              "      <td>NaN</td>\n",
              "      <td>Forest fire near La Ronge Sask. Canada</td>\n",
              "      <td>1</td>\n",
              "      <td>[]</td>\n",
              "      <td>True</td>\n",
              "      <td>True</td>\n",
              "      <td>[[0.0, 0.0, 0.0, 0.0, 0.0, 0.0, 0.0, 0.0, 0.0,...</td>\n",
              "    </tr>\n",
              "    <tr>\n",
              "      <th>2</th>\n",
              "      <td>5</td>\n",
              "      <td>NaN</td>\n",
              "      <td>NaN</td>\n",
              "      <td>All residents asked to 'shelter in place' are ...</td>\n",
              "      <td>1</td>\n",
              "      <td>[]</td>\n",
              "      <td>True</td>\n",
              "      <td>True</td>\n",
              "      <td>[[0.0, 0.0, 0.0, 0.0, 0.0, 0.0, 0.0, 0.0, 0.0,...</td>\n",
              "    </tr>\n",
              "    <tr>\n",
              "      <th>3</th>\n",
              "      <td>6</td>\n",
              "      <td>NaN</td>\n",
              "      <td>NaN</td>\n",
              "      <td>13,000 people receive #wildfires evacuation or...</td>\n",
              "      <td>1</td>\n",
              "      <td>[wildfires]</td>\n",
              "      <td>False</td>\n",
              "      <td>True</td>\n",
              "      <td>[[0.27762, 0.31333, -0.89246, -0.050292, -0.59...</td>\n",
              "    </tr>\n",
              "    <tr>\n",
              "      <th>4</th>\n",
              "      <td>7</td>\n",
              "      <td>NaN</td>\n",
              "      <td>NaN</td>\n",
              "      <td>Just got sent this photo from Ruby #Alaska as ...</td>\n",
              "      <td>1</td>\n",
              "      <td>[alaska, wildfires]</td>\n",
              "      <td>False</td>\n",
              "      <td>True</td>\n",
              "      <td>[[-0.27928000000000003, -0.067628, -0.50753, -...</td>\n",
              "    </tr>\n",
              "  </tbody>\n",
              "</table>\n",
              "</div>"
            ],
            "text/plain": [
              "   id keyword  ... no_location                                       tags_vectors\n",
              "0   1     NaN  ...        True  [[-0.32275, 0.14165, 0.053551, -0.53203, -0.14...\n",
              "1   4     NaN  ...        True  [[0.0, 0.0, 0.0, 0.0, 0.0, 0.0, 0.0, 0.0, 0.0,...\n",
              "2   5     NaN  ...        True  [[0.0, 0.0, 0.0, 0.0, 0.0, 0.0, 0.0, 0.0, 0.0,...\n",
              "3   6     NaN  ...        True  [[0.27762, 0.31333, -0.89246, -0.050292, -0.59...\n",
              "4   7     NaN  ...        True  [[-0.27928000000000003, -0.067628, -0.50753, -...\n",
              "\n",
              "[5 rows x 9 columns]"
            ]
          },
          "metadata": {
            "tags": []
          },
          "execution_count": 21
        }
      ]
    },
    {
      "cell_type": "markdown",
      "metadata": {
        "id": "fFm5T66xlJgh",
        "colab_type": "text"
      },
      "source": [
        "###Math with Words"
      ]
    },
    {
      "cell_type": "markdown",
      "metadata": {
        "id": "0--2ruenY7Sx",
        "colab_type": "text"
      },
      "source": [
        "As some of the tweets have several tags, I decided to use 'Math with Words' and just sum them:"
      ]
    },
    {
      "cell_type": "code",
      "metadata": {
        "id": "ZT0KDVonlfUh",
        "colab_type": "code",
        "colab": {}
      },
      "source": [
        "words_matrix = words.values\n",
        "\n",
        "def find_closest_word(vector):\n",
        "  diff = words_matrix - vector\n",
        "  delta = np.sum(diff * diff, axis=1)\n",
        "  i = np.argmin(delta)\n",
        "  return words.iloc[i].name"
      ],
      "execution_count": 0,
      "outputs": []
    },
    {
      "cell_type": "markdown",
      "metadata": {
        "id": "_DZ0-0ULZfNv",
        "colab_type": "text"
      },
      "source": [
        "For example:"
      ]
    },
    {
      "cell_type": "code",
      "metadata": {
        "id": "USX3kmUO1DKP",
        "colab_type": "code",
        "outputId": "8844c249-29fd-4f64-a4dd-7c1555a8d737",
        "colab": {
          "base_uri": "https://localhost:8080/",
          "height": 34
        }
      },
      "source": [
        "find_closest_word(vec('mobile')-vec('phone'))"
      ],
      "execution_count": 23,
      "outputs": [
        {
          "output_type": "execute_result",
          "data": {
            "text/plain": [
              "'flasharabia'"
            ]
          },
          "metadata": {
            "tags": []
          },
          "execution_count": 23
        }
      ]
    },
    {
      "cell_type": "markdown",
      "metadata": {
        "id": "DMu3UZD-2veP",
        "colab_type": "text"
      },
      "source": [
        "Emm, Arabic, can be...\n",
        "\n",
        "But in our case:"
      ]
    },
    {
      "cell_type": "code",
      "metadata": {
        "id": "j4486aH2wiAQ",
        "colab_type": "code",
        "outputId": "4af1d466-82ab-427e-c99d-b483d28d861b",
        "colab": {
          "base_uri": "https://localhost:8080/",
          "height": 34
        }
      },
      "source": [
        "sorted(train['tags'].values, reverse=True)[3]"
      ],
      "execution_count": 24,
      "outputs": [
        {
          "output_type": "execute_result",
          "data": {
            "text/plain": [
              "['zionist', 'terrorist', 'palestinians']"
            ]
          },
          "metadata": {
            "tags": []
          },
          "execution_count": 24
        }
      ]
    },
    {
      "cell_type": "code",
      "metadata": {
        "id": "NMzlFfORw5R5",
        "colab_type": "code",
        "outputId": "cad9bb06-3a9f-4304-e845-0bfe479a01ec",
        "colab": {
          "base_uri": "https://localhost:8080/",
          "height": 34
        }
      },
      "source": [
        "find_closest_word(vec('zionist') + vec('terrorist') + vec('palestinians'))"
      ],
      "execution_count": 25,
      "outputs": [
        {
          "output_type": "execute_result",
          "data": {
            "text/plain": [
              "'terrorist'"
            ]
          },
          "metadata": {
            "tags": []
          },
          "execution_count": 25
        }
      ]
    },
    {
      "cell_type": "markdown",
      "metadata": {
        "id": "vv07vBtp3fO-",
        "colab_type": "text"
      },
      "source": [
        "Quite logical, so I will save the result in another column, and then will calculate the average of vectors to compare:"
      ]
    },
    {
      "cell_type": "code",
      "metadata": {
        "id": "FNRxXghN7xf4",
        "colab_type": "code",
        "colab": {}
      },
      "source": [
        "train['sum_tags_vectors'] = train['tags_vectors'].apply(lambda tags: np.sum(np.array(tags), axis=0))\n",
        "test['sum_tags_vectors'] = test['tags_vectors'].apply(lambda tags: np.sum(np.array(tags), axis=0))"
      ],
      "execution_count": 0,
      "outputs": []
    },
    {
      "cell_type": "code",
      "metadata": {
        "id": "zJgrkro4FMNJ",
        "colab_type": "code",
        "outputId": "5470887c-a5d5-46c3-e358-5bf4956d8f7f",
        "colab": {
          "base_uri": "https://localhost:8080/",
          "height": 598
        }
      },
      "source": [
        "train.head()"
      ],
      "execution_count": 27,
      "outputs": [
        {
          "output_type": "execute_result",
          "data": {
            "text/html": [
              "<div>\n",
              "<style scoped>\n",
              "    .dataframe tbody tr th:only-of-type {\n",
              "        vertical-align: middle;\n",
              "    }\n",
              "\n",
              "    .dataframe tbody tr th {\n",
              "        vertical-align: top;\n",
              "    }\n",
              "\n",
              "    .dataframe thead th {\n",
              "        text-align: right;\n",
              "    }\n",
              "</style>\n",
              "<table border=\"1\" class=\"dataframe\">\n",
              "  <thead>\n",
              "    <tr style=\"text-align: right;\">\n",
              "      <th></th>\n",
              "      <th>id</th>\n",
              "      <th>keyword</th>\n",
              "      <th>location</th>\n",
              "      <th>text</th>\n",
              "      <th>target</th>\n",
              "      <th>tags</th>\n",
              "      <th>no_tags</th>\n",
              "      <th>no_location</th>\n",
              "      <th>tags_vectors</th>\n",
              "      <th>sum_tags_vectors</th>\n",
              "    </tr>\n",
              "  </thead>\n",
              "  <tbody>\n",
              "    <tr>\n",
              "      <th>0</th>\n",
              "      <td>1</td>\n",
              "      <td>NaN</td>\n",
              "      <td>NaN</td>\n",
              "      <td>Our Deeds are the Reason of this #earthquake M...</td>\n",
              "      <td>1</td>\n",
              "      <td>[earthquake]</td>\n",
              "      <td>False</td>\n",
              "      <td>True</td>\n",
              "      <td>[[-0.32275, 0.14165, 0.053551, -0.53203, -0.14...</td>\n",
              "      <td>[-0.32275, 0.14165, 0.053551, -0.53203, -0.141...</td>\n",
              "    </tr>\n",
              "    <tr>\n",
              "      <th>1</th>\n",
              "      <td>4</td>\n",
              "      <td>NaN</td>\n",
              "      <td>NaN</td>\n",
              "      <td>Forest fire near La Ronge Sask. Canada</td>\n",
              "      <td>1</td>\n",
              "      <td>[]</td>\n",
              "      <td>True</td>\n",
              "      <td>True</td>\n",
              "      <td>[[0.0, 0.0, 0.0, 0.0, 0.0, 0.0, 0.0, 0.0, 0.0,...</td>\n",
              "      <td>[0.0, 0.0, 0.0, 0.0, 0.0, 0.0, 0.0, 0.0, 0.0, ...</td>\n",
              "    </tr>\n",
              "    <tr>\n",
              "      <th>2</th>\n",
              "      <td>5</td>\n",
              "      <td>NaN</td>\n",
              "      <td>NaN</td>\n",
              "      <td>All residents asked to 'shelter in place' are ...</td>\n",
              "      <td>1</td>\n",
              "      <td>[]</td>\n",
              "      <td>True</td>\n",
              "      <td>True</td>\n",
              "      <td>[[0.0, 0.0, 0.0, 0.0, 0.0, 0.0, 0.0, 0.0, 0.0,...</td>\n",
              "      <td>[0.0, 0.0, 0.0, 0.0, 0.0, 0.0, 0.0, 0.0, 0.0, ...</td>\n",
              "    </tr>\n",
              "    <tr>\n",
              "      <th>3</th>\n",
              "      <td>6</td>\n",
              "      <td>NaN</td>\n",
              "      <td>NaN</td>\n",
              "      <td>13,000 people receive #wildfires evacuation or...</td>\n",
              "      <td>1</td>\n",
              "      <td>[wildfires]</td>\n",
              "      <td>False</td>\n",
              "      <td>True</td>\n",
              "      <td>[[0.27762, 0.31333, -0.89246, -0.050292, -0.59...</td>\n",
              "      <td>[0.27762, 0.31333, -0.89246, -0.050292, -0.590...</td>\n",
              "    </tr>\n",
              "    <tr>\n",
              "      <th>4</th>\n",
              "      <td>7</td>\n",
              "      <td>NaN</td>\n",
              "      <td>NaN</td>\n",
              "      <td>Just got sent this photo from Ruby #Alaska as ...</td>\n",
              "      <td>1</td>\n",
              "      <td>[alaska, wildfires]</td>\n",
              "      <td>False</td>\n",
              "      <td>True</td>\n",
              "      <td>[[-0.27928000000000003, -0.067628, -0.50753, -...</td>\n",
              "      <td>[-0.0016600000000000503, 0.245702, -1.39999, -...</td>\n",
              "    </tr>\n",
              "  </tbody>\n",
              "</table>\n",
              "</div>"
            ],
            "text/plain": [
              "   id  ...                                   sum_tags_vectors\n",
              "0   1  ...  [-0.32275, 0.14165, 0.053551, -0.53203, -0.141...\n",
              "1   4  ...  [0.0, 0.0, 0.0, 0.0, 0.0, 0.0, 0.0, 0.0, 0.0, ...\n",
              "2   5  ...  [0.0, 0.0, 0.0, 0.0, 0.0, 0.0, 0.0, 0.0, 0.0, ...\n",
              "3   6  ...  [0.27762, 0.31333, -0.89246, -0.050292, -0.590...\n",
              "4   7  ...  [-0.0016600000000000503, 0.245702, -1.39999, -...\n",
              "\n",
              "[5 rows x 10 columns]"
            ]
          },
          "metadata": {
            "tags": []
          },
          "execution_count": 27
        }
      ]
    },
    {
      "cell_type": "markdown",
      "metadata": {
        "id": "o1i4B6D3laOJ",
        "colab_type": "text"
      },
      "source": [
        "##Model:"
      ]
    },
    {
      "cell_type": "code",
      "metadata": {
        "id": "QaFsZXOi3-8T",
        "colab_type": "code",
        "colab": {}
      },
      "source": [
        "labels = train['target']\n",
        "\n",
        "features = np.array(train.sum_tags_vectors.values.tolist())\n",
        "test_features = np.array(test.sum_tags_vectors.values.tolist())"
      ],
      "execution_count": 0,
      "outputs": []
    },
    {
      "cell_type": "code",
      "metadata": {
        "id": "hWbk78Fnr4Uw",
        "colab_type": "code",
        "outputId": "ad2ab34e-302e-4287-c6fe-43a9ddf50959",
        "colab": {
          "base_uri": "https://localhost:8080/",
          "height": 68
        }
      },
      "source": [
        "train_prediction = cross_val(features,\n",
        "                             labels, \n",
        "                             model_type = 'knn', \n",
        "                             k_neighbors = 9,\n",
        "                             n_folds = 5)"
      ],
      "execution_count": 34,
      "outputs": [
        {
          "output_type": "stream",
          "text": [
            "Training Data Shape:  (7613, 200)\n",
            "\n",
            "F1 Score: 0.5195989061075662\n"
          ],
          "name": "stdout"
        }
      ]
    },
    {
      "cell_type": "code",
      "metadata": {
        "id": "-cuTMTih6PHB",
        "colab_type": "code",
        "colab": {}
      },
      "source": [
        "prediction = train.copy()\n",
        "\n",
        "prediction['glove_tags_pred'] = train_prediction\n",
        "prediction = prediction.drop(columns = ['keyword', 'location', 'text', 'tags', 'target', 'tags_vectors', 'sum_tags_vectors'])"
      ],
      "execution_count": 0,
      "outputs": []
    },
    {
      "cell_type": "code",
      "metadata": {
        "id": "3xqesZ1x7EQq",
        "colab_type": "code",
        "outputId": "35ff58b8-430d-4398-e841-aac4f0e909b8",
        "colab": {
          "base_uri": "https://localhost:8080/",
          "height": 204
        }
      },
      "source": [
        "prediction.head()"
      ],
      "execution_count": 36,
      "outputs": [
        {
          "output_type": "execute_result",
          "data": {
            "text/html": [
              "<div>\n",
              "<style scoped>\n",
              "    .dataframe tbody tr th:only-of-type {\n",
              "        vertical-align: middle;\n",
              "    }\n",
              "\n",
              "    .dataframe tbody tr th {\n",
              "        vertical-align: top;\n",
              "    }\n",
              "\n",
              "    .dataframe thead th {\n",
              "        text-align: right;\n",
              "    }\n",
              "</style>\n",
              "<table border=\"1\" class=\"dataframe\">\n",
              "  <thead>\n",
              "    <tr style=\"text-align: right;\">\n",
              "      <th></th>\n",
              "      <th>id</th>\n",
              "      <th>no_tags</th>\n",
              "      <th>no_location</th>\n",
              "      <th>glove_tags_pred</th>\n",
              "    </tr>\n",
              "  </thead>\n",
              "  <tbody>\n",
              "    <tr>\n",
              "      <th>0</th>\n",
              "      <td>1</td>\n",
              "      <td>False</td>\n",
              "      <td>True</td>\n",
              "      <td>1.000000</td>\n",
              "    </tr>\n",
              "    <tr>\n",
              "      <th>1</th>\n",
              "      <td>4</td>\n",
              "      <td>True</td>\n",
              "      <td>True</td>\n",
              "      <td>0.666667</td>\n",
              "    </tr>\n",
              "    <tr>\n",
              "      <th>2</th>\n",
              "      <td>5</td>\n",
              "      <td>True</td>\n",
              "      <td>True</td>\n",
              "      <td>0.666667</td>\n",
              "    </tr>\n",
              "    <tr>\n",
              "      <th>3</th>\n",
              "      <td>6</td>\n",
              "      <td>False</td>\n",
              "      <td>True</td>\n",
              "      <td>1.000000</td>\n",
              "    </tr>\n",
              "    <tr>\n",
              "      <th>4</th>\n",
              "      <td>7</td>\n",
              "      <td>False</td>\n",
              "      <td>True</td>\n",
              "      <td>0.888889</td>\n",
              "    </tr>\n",
              "  </tbody>\n",
              "</table>\n",
              "</div>"
            ],
            "text/plain": [
              "   id  no_tags  no_location  glove_tags_pred\n",
              "0   1    False         True         1.000000\n",
              "1   4     True         True         0.666667\n",
              "2   5     True         True         0.666667\n",
              "3   6    False         True         1.000000\n",
              "4   7    False         True         0.888889"
            ]
          },
          "metadata": {
            "tags": []
          },
          "execution_count": 36
        }
      ]
    },
    {
      "cell_type": "markdown",
      "metadata": {
        "id": "m0I2Cxx27JVU",
        "colab_type": "text"
      },
      "source": [
        "I think that it was a good idea to add 'no_tags' column. As we can see, rows, where tweets don't have any tag, got probability closer to 0.5"
      ]
    },
    {
      "cell_type": "code",
      "metadata": {
        "id": "Pvzmkcnx-r3u",
        "colab_type": "code",
        "colab": {}
      },
      "source": [
        "model = KNeighborsClassifier(n_neighbors=9)\n",
        "\n",
        "model.fit(features, labels)\n",
        "\n",
        "test_prediction = model.predict_proba(test_features)"
      ],
      "execution_count": 0,
      "outputs": []
    },
    {
      "cell_type": "code",
      "metadata": {
        "id": "szRkzNzP-5Uo",
        "colab_type": "code",
        "colab": {}
      },
      "source": [
        "test_predictions = test.copy()\n",
        "\n",
        "test_predictions['glove_tags_pred'] = test_prediction[:, 1]\n",
        "\n",
        "test_predictions = test_predictions.drop(columns = ['keyword', 'location', 'text', 'tags', 'tags_vectors', 'sum_tags_vectors'])"
      ],
      "execution_count": 0,
      "outputs": []
    },
    {
      "cell_type": "code",
      "metadata": {
        "id": "5VWZy1h3-9xB",
        "colab_type": "code",
        "outputId": "86c4b113-3b3d-4406-92c2-ba8085c0460d",
        "colab": {
          "base_uri": "https://localhost:8080/",
          "height": 204
        }
      },
      "source": [
        "test_predictions.head()"
      ],
      "execution_count": 39,
      "outputs": [
        {
          "output_type": "execute_result",
          "data": {
            "text/html": [
              "<div>\n",
              "<style scoped>\n",
              "    .dataframe tbody tr th:only-of-type {\n",
              "        vertical-align: middle;\n",
              "    }\n",
              "\n",
              "    .dataframe tbody tr th {\n",
              "        vertical-align: top;\n",
              "    }\n",
              "\n",
              "    .dataframe thead th {\n",
              "        text-align: right;\n",
              "    }\n",
              "</style>\n",
              "<table border=\"1\" class=\"dataframe\">\n",
              "  <thead>\n",
              "    <tr style=\"text-align: right;\">\n",
              "      <th></th>\n",
              "      <th>id</th>\n",
              "      <th>no_tags</th>\n",
              "      <th>no_location</th>\n",
              "      <th>glove_tags_pred</th>\n",
              "    </tr>\n",
              "  </thead>\n",
              "  <tbody>\n",
              "    <tr>\n",
              "      <th>0</th>\n",
              "      <td>0</td>\n",
              "      <td>True</td>\n",
              "      <td>True</td>\n",
              "      <td>0.777778</td>\n",
              "    </tr>\n",
              "    <tr>\n",
              "      <th>1</th>\n",
              "      <td>2</td>\n",
              "      <td>False</td>\n",
              "      <td>True</td>\n",
              "      <td>1.000000</td>\n",
              "    </tr>\n",
              "    <tr>\n",
              "      <th>2</th>\n",
              "      <td>3</td>\n",
              "      <td>True</td>\n",
              "      <td>True</td>\n",
              "      <td>0.777778</td>\n",
              "    </tr>\n",
              "    <tr>\n",
              "      <th>3</th>\n",
              "      <td>9</td>\n",
              "      <td>False</td>\n",
              "      <td>True</td>\n",
              "      <td>1.000000</td>\n",
              "    </tr>\n",
              "    <tr>\n",
              "      <th>4</th>\n",
              "      <td>11</td>\n",
              "      <td>True</td>\n",
              "      <td>True</td>\n",
              "      <td>0.777778</td>\n",
              "    </tr>\n",
              "  </tbody>\n",
              "</table>\n",
              "</div>"
            ],
            "text/plain": [
              "   id  no_tags  no_location  glove_tags_pred\n",
              "0   0     True         True         0.777778\n",
              "1   2    False         True         1.000000\n",
              "2   3     True         True         0.777778\n",
              "3   9    False         True         1.000000\n",
              "4  11     True         True         0.777778"
            ]
          },
          "metadata": {
            "tags": []
          },
          "execution_count": 39
        }
      ]
    },
    {
      "cell_type": "markdown",
      "metadata": {
        "id": "59evL8dGldfA",
        "colab_type": "text"
      },
      "source": [
        "##Location column analysis:"
      ]
    },
    {
      "cell_type": "markdown",
      "metadata": {
        "id": "WnywR8Q279Ws",
        "colab_type": "text"
      },
      "source": [
        "Let's explore 'location' column:"
      ]
    },
    {
      "cell_type": "code",
      "metadata": {
        "id": "ErFImSdf7rCf",
        "colab_type": "code",
        "outputId": "3d88d041-8590-4ccc-abe1-2b3154df40d3",
        "colab": {
          "base_uri": "https://localhost:8080/",
          "height": 102
        }
      },
      "source": [
        "train.location.describe()"
      ],
      "execution_count": 40,
      "outputs": [
        {
          "output_type": "execute_result",
          "data": {
            "text/plain": [
              "count     5080\n",
              "unique    3341\n",
              "top        USA\n",
              "freq       104\n",
              "Name: location, dtype: object"
            ]
          },
          "metadata": {
            "tags": []
          },
          "execution_count": 40
        }
      ]
    },
    {
      "cell_type": "code",
      "metadata": {
        "id": "h2N9b73nNVTF",
        "colab_type": "code",
        "outputId": "c7ca8736-c233-43ee-89b6-68407dd3e140",
        "colab": {
          "base_uri": "https://localhost:8080/",
          "height": 378
        }
      },
      "source": [
        "plt.figure(figsize=(17,15))\n",
        "\n",
        "plt.subplot(321)\n",
        "train['location'].value_counts()[:10].plot(kind='bar')\n",
        "\n",
        "plt.subplot(322)\n",
        "test['location'].value_counts()[:10].plot(kind='bar')\n",
        "plt.show()"
      ],
      "execution_count": 41,
      "outputs": [
        {
          "output_type": "display_data",
          "data": {
            "image/png": "[encoded data removed]",
            "text/plain": [
              "<Figure size 1224x1080 with 2 Axes>"
            ]
          },
          "metadata": {
            "tags": []
          }
        }
      ]
    },
    {
      "cell_type": "code",
      "metadata": {
        "id": "nBhRv382O7Eb",
        "colab_type": "code",
        "outputId": "2ef10e7a-d329-4ef5-9b7f-7136c8330d60",
        "colab": {
          "base_uri": "https://localhost:8080/",
          "height": 119
        }
      },
      "source": [
        "train['location'].unique()[:20]"
      ],
      "execution_count": 42,
      "outputs": [
        {
          "output_type": "execute_result",
          "data": {
            "text/plain": [
              "array([nan, 'Birmingham', 'Est. September 2012 - Bristol', 'AFRICA',\n",
              "       'Philadelphia, PA', 'London, UK', 'Pretoria', 'World Wide!!',\n",
              "       'Paranaque City', 'Live On Webcam', 'milky way',\n",
              "       'GREENSBORO,NORTH CAROLINA', 'England.',\n",
              "       'Sheffield Township, Ohio', 'India', 'Barbados', 'Anaheim',\n",
              "       'Abuja', 'USA', 'South Africa'], dtype=object)"
            ]
          },
          "metadata": {
            "tags": []
          },
          "execution_count": 42
        }
      ]
    },
    {
      "cell_type": "markdown",
      "metadata": {
        "id": "ChcvEjU98YHF",
        "colab_type": "text"
      },
      "source": [
        "As we can see, some of the locations have something like region or country after coma, we need to remove it, as there is no vector corresponding \"Los Angeles, CA\", but there is the vector for \"losandeles\"."
      ]
    },
    {
      "cell_type": "code",
      "metadata": {
        "id": "ARI7DrTrP0NG",
        "colab_type": "code",
        "colab": {}
      },
      "source": [
        "def remove_region(location):\n",
        "    try:\n",
        "        html=re.compile(r',.*')\n",
        "        return html.sub(r'',location)\n",
        "    except:\n",
        "        return None"
      ],
      "execution_count": 0,
      "outputs": []
    },
    {
      "cell_type": "code",
      "metadata": {
        "id": "84Qw7zrbSlJ2",
        "colab_type": "code",
        "colab": {}
      },
      "source": [
        "train['location'] = train['location'].apply(lambda location: remove_region(location))\n",
        "test['location'] = test['location'].apply(lambda location: remove_region(location))"
      ],
      "execution_count": 0,
      "outputs": []
    },
    {
      "cell_type": "markdown",
      "metadata": {
        "id": "fymsj0R_9jcv",
        "colab_type": "text"
      },
      "source": [
        "Dropping punctuation and spaces:"
      ]
    },
    {
      "cell_type": "code",
      "metadata": {
        "id": "W0p28ha_U_Tv",
        "colab_type": "code",
        "colab": {}
      },
      "source": [
        "def just_letters(location):\n",
        "    try:\n",
        "        html=re.compile(r'[^\\w]')\n",
        "        return html.sub(r'',location)\n",
        "    except:\n",
        "        return ''"
      ],
      "execution_count": 0,
      "outputs": []
    },
    {
      "cell_type": "code",
      "metadata": {
        "id": "9YS09DNqWSoh",
        "colab_type": "code",
        "colab": {}
      },
      "source": [
        "train['location'] = train['location'].apply(lambda location: just_letters(location).lower())\n",
        "test['location'] = test['location'].apply(lambda location: just_letters(location).lower())"
      ],
      "execution_count": 0,
      "outputs": []
    },
    {
      "cell_type": "markdown",
      "metadata": {
        "id": "Nfm_6OFVAeD3",
        "colab_type": "text"
      },
      "source": [
        "Getting vectors:"
      ]
    },
    {
      "cell_type": "code",
      "metadata": {
        "id": "VhPHCcGpW2rd",
        "colab_type": "code",
        "colab": {}
      },
      "source": [
        "train['locations_vector'] = train['location'].apply(lambda location: vec(location))\n",
        "test['locations_vector'] = test['location'].apply(lambda location: vec(location))"
      ],
      "execution_count": 0,
      "outputs": []
    },
    {
      "cell_type": "code",
      "metadata": {
        "id": "07vbI8oJ5fOD",
        "colab_type": "code",
        "colab": {}
      },
      "source": [
        "features = np.array(train.locations_vector.values.tolist())\n",
        "test_features = np.array(test.locations_vector.values.tolist())"
      ],
      "execution_count": 0,
      "outputs": []
    },
    {
      "cell_type": "code",
      "metadata": {
        "id": "kgL5Kadr_XvD",
        "colab_type": "code",
        "outputId": "18cea122-eb6e-4b03-8453-e0806bc120a5",
        "colab": {
          "base_uri": "https://localhost:8080/",
          "height": 68
        }
      },
      "source": [
        "train_prediction = cross_val(features, \n",
        "                             labels, \n",
        "                             model_type = 'knn',\n",
        "                             k_neighbors = 27,\n",
        "                             n_folds = 5)"
      ],
      "execution_count": 58,
      "outputs": [
        {
          "output_type": "stream",
          "text": [
            "Training Data Shape:  (7613, 200)\n",
            "\n",
            "F1 Score: 0.47096492504730025\n"
          ],
          "name": "stdout"
        }
      ]
    },
    {
      "cell_type": "code",
      "metadata": {
        "id": "Tqu48foHAB6B",
        "colab_type": "code",
        "colab": {}
      },
      "source": [
        "prediction['glove_loc_pred'] = train_prediction"
      ],
      "execution_count": 0,
      "outputs": []
    },
    {
      "cell_type": "code",
      "metadata": {
        "id": "IN9x4DnTAHJX",
        "colab_type": "code",
        "outputId": "109031c2-09d9-450d-e754-34d93ff3a994",
        "colab": {
          "base_uri": "https://localhost:8080/",
          "height": 204
        }
      },
      "source": [
        "prediction.head()"
      ],
      "execution_count": 60,
      "outputs": [
        {
          "output_type": "execute_result",
          "data": {
            "text/html": [
              "<div>\n",
              "<style scoped>\n",
              "    .dataframe tbody tr th:only-of-type {\n",
              "        vertical-align: middle;\n",
              "    }\n",
              "\n",
              "    .dataframe tbody tr th {\n",
              "        vertical-align: top;\n",
              "    }\n",
              "\n",
              "    .dataframe thead th {\n",
              "        text-align: right;\n",
              "    }\n",
              "</style>\n",
              "<table border=\"1\" class=\"dataframe\">\n",
              "  <thead>\n",
              "    <tr style=\"text-align: right;\">\n",
              "      <th></th>\n",
              "      <th>id</th>\n",
              "      <th>no_tags</th>\n",
              "      <th>no_location</th>\n",
              "      <th>glove_tags_pred</th>\n",
              "      <th>glove_loc_pred</th>\n",
              "    </tr>\n",
              "  </thead>\n",
              "  <tbody>\n",
              "    <tr>\n",
              "      <th>0</th>\n",
              "      <td>1</td>\n",
              "      <td>False</td>\n",
              "      <td>True</td>\n",
              "      <td>1.000000</td>\n",
              "      <td>0.481481</td>\n",
              "    </tr>\n",
              "    <tr>\n",
              "      <th>1</th>\n",
              "      <td>4</td>\n",
              "      <td>True</td>\n",
              "      <td>True</td>\n",
              "      <td>0.666667</td>\n",
              "      <td>0.518519</td>\n",
              "    </tr>\n",
              "    <tr>\n",
              "      <th>2</th>\n",
              "      <td>5</td>\n",
              "      <td>True</td>\n",
              "      <td>True</td>\n",
              "      <td>0.666667</td>\n",
              "      <td>0.407407</td>\n",
              "    </tr>\n",
              "    <tr>\n",
              "      <th>3</th>\n",
              "      <td>6</td>\n",
              "      <td>False</td>\n",
              "      <td>True</td>\n",
              "      <td>1.000000</td>\n",
              "      <td>0.555556</td>\n",
              "    </tr>\n",
              "    <tr>\n",
              "      <th>4</th>\n",
              "      <td>7</td>\n",
              "      <td>False</td>\n",
              "      <td>True</td>\n",
              "      <td>0.888889</td>\n",
              "      <td>0.592593</td>\n",
              "    </tr>\n",
              "  </tbody>\n",
              "</table>\n",
              "</div>"
            ],
            "text/plain": [
              "   id  no_tags  no_location  glove_tags_pred  glove_loc_pred\n",
              "0   1    False         True         1.000000        0.481481\n",
              "1   4     True         True         0.666667        0.518519\n",
              "2   5     True         True         0.666667        0.407407\n",
              "3   6    False         True         1.000000        0.555556\n",
              "4   7    False         True         0.888889        0.592593"
            ]
          },
          "metadata": {
            "tags": []
          },
          "execution_count": 60
        }
      ]
    },
    {
      "cell_type": "code",
      "metadata": {
        "id": "vEk5jBCFA8mm",
        "colab_type": "code",
        "colab": {}
      },
      "source": [
        "model = KNeighborsClassifier(n_neighbors=27)\n",
        "\n",
        "model.fit(features, labels)\n",
        "\n",
        "test_prediction = model.predict_proba(test_features)"
      ],
      "execution_count": 0,
      "outputs": []
    },
    {
      "cell_type": "code",
      "metadata": {
        "id": "ld1EsAorAPfS",
        "colab_type": "code",
        "colab": {}
      },
      "source": [
        "test_predictions['loc_pred'] = test_prediction[:, 1]"
      ],
      "execution_count": 0,
      "outputs": []
    },
    {
      "cell_type": "code",
      "metadata": {
        "id": "YIv8PlX9AX8J",
        "colab_type": "code",
        "outputId": "4b02797c-f773-4cf3-daef-d6371953d83f",
        "colab": {
          "base_uri": "https://localhost:8080/",
          "height": 204
        }
      },
      "source": [
        "test_predictions.head()"
      ],
      "execution_count": 63,
      "outputs": [
        {
          "output_type": "execute_result",
          "data": {
            "text/html": [
              "<div>\n",
              "<style scoped>\n",
              "    .dataframe tbody tr th:only-of-type {\n",
              "        vertical-align: middle;\n",
              "    }\n",
              "\n",
              "    .dataframe tbody tr th {\n",
              "        vertical-align: top;\n",
              "    }\n",
              "\n",
              "    .dataframe thead th {\n",
              "        text-align: right;\n",
              "    }\n",
              "</style>\n",
              "<table border=\"1\" class=\"dataframe\">\n",
              "  <thead>\n",
              "    <tr style=\"text-align: right;\">\n",
              "      <th></th>\n",
              "      <th>id</th>\n",
              "      <th>no_tags</th>\n",
              "      <th>no_location</th>\n",
              "      <th>glove_tags_pred</th>\n",
              "      <th>loc_pred</th>\n",
              "    </tr>\n",
              "  </thead>\n",
              "  <tbody>\n",
              "    <tr>\n",
              "      <th>0</th>\n",
              "      <td>0</td>\n",
              "      <td>True</td>\n",
              "      <td>True</td>\n",
              "      <td>0.777778</td>\n",
              "      <td>0.407407</td>\n",
              "    </tr>\n",
              "    <tr>\n",
              "      <th>1</th>\n",
              "      <td>2</td>\n",
              "      <td>False</td>\n",
              "      <td>True</td>\n",
              "      <td>1.000000</td>\n",
              "      <td>0.407407</td>\n",
              "    </tr>\n",
              "    <tr>\n",
              "      <th>2</th>\n",
              "      <td>3</td>\n",
              "      <td>True</td>\n",
              "      <td>True</td>\n",
              "      <td>0.777778</td>\n",
              "      <td>0.407407</td>\n",
              "    </tr>\n",
              "    <tr>\n",
              "      <th>3</th>\n",
              "      <td>9</td>\n",
              "      <td>False</td>\n",
              "      <td>True</td>\n",
              "      <td>1.000000</td>\n",
              "      <td>0.407407</td>\n",
              "    </tr>\n",
              "    <tr>\n",
              "      <th>4</th>\n",
              "      <td>11</td>\n",
              "      <td>True</td>\n",
              "      <td>True</td>\n",
              "      <td>0.777778</td>\n",
              "      <td>0.407407</td>\n",
              "    </tr>\n",
              "  </tbody>\n",
              "</table>\n",
              "</div>"
            ],
            "text/plain": [
              "   id  no_tags  no_location  glove_tags_pred  loc_pred\n",
              "0   0     True         True         0.777778  0.407407\n",
              "1   2    False         True         1.000000  0.407407\n",
              "2   3     True         True         0.777778  0.407407\n",
              "3   9    False         True         1.000000  0.407407\n",
              "4  11     True         True         0.777778  0.407407"
            ]
          },
          "metadata": {
            "tags": []
          },
          "execution_count": 63
        }
      ]
    },
    {
      "cell_type": "code",
      "metadata": {
        "id": "1rj5T_7cBSMO",
        "colab_type": "code",
        "colab": {}
      },
      "source": [
        "prediction.to_csv('/content/drive/My Drive/tweeter/train_predictions_glove.csv', index_label='idx')\n",
        "test_predictions.to_csv('/content/drive/My Drive/tweeter/test_predictions_glove.csv', index_label='idx')"
      ],
      "execution_count": 0,
      "outputs": []
    }
  ]
}