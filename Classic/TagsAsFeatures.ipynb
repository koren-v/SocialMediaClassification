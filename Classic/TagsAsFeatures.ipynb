{
  "nbformat": 4,
  "nbformat_minor": 0,
  "metadata": {
    "colab": {
      "name": "TagsAsFeatures.ipynb",
      "provenance": [],
      "collapsed_sections": []
    },
    "kernelspec": {
      "name": "python3",
      "display_name": "Python 3"
    },
    "accelerator": "GPU"
  },
  "cells": [
    {
      "cell_type": "code",
      "metadata": {
        "id": "w_ZCEdoaT7Ge",
        "colab_type": "code",
        "outputId": "4d080b4e-903d-43e1-cf33-6afb9a11102d",
        "colab": {
          "base_uri": "https://localhost:8080/",
          "height": 54
        }
      },
      "source": [
        "from google.colab import drive\n",
        "drive.mount('/content/drive')"
      ],
      "execution_count": 0,
      "outputs": [
        {
          "output_type": "stream",
          "text": [
            "Drive already mounted at /content/drive; to attempt to forcibly remount, call drive.mount(\"/content/drive\", force_remount=True).\n"
          ],
          "name": "stdout"
        }
      ]
    },
    {
      "cell_type": "code",
      "metadata": {
        "id": "EjCT0zwlT_q5",
        "colab_type": "code",
        "colab": {}
      },
      "source": [
        "!cp /content/drive/'My Drive'/kaggle.json .\n",
        "!cp /content/drive/'My Drive'/tweeter/utils_for_ml.py ."
      ],
      "execution_count": 0,
      "outputs": []
    },
    {
      "cell_type": "code",
      "metadata": {
        "id": "EoW-t3Q4T_oc",
        "colab_type": "code",
        "outputId": "ebff2b00-7c5d-4fa1-a9ba-97f9eeba1d88",
        "colab": {
          "base_uri": "https://localhost:8080/",
          "height": 34
        }
      },
      "source": [
        "!mkdir ~/.kaggle\n",
        "!mv kaggle.json ~/.kaggle"
      ],
      "execution_count": 0,
      "outputs": [
        {
          "output_type": "stream",
          "text": [
            "mkdir: cannot create directory ‘/root/.kaggle’: File exists\n"
          ],
          "name": "stdout"
        }
      ]
    },
    {
      "cell_type": "code",
      "metadata": {
        "id": "7OuT5oNGT_ln",
        "colab_type": "code",
        "outputId": "11016ae4-8c1d-48c2-df2c-404704530e3f",
        "colab": {
          "base_uri": "https://localhost:8080/",
          "height": 85
        }
      },
      "source": [
        "!kaggle competitions download -c nlp-getting-started"
      ],
      "execution_count": 0,
      "outputs": [
        {
          "output_type": "stream",
          "text": [
            "Warning: Looks like you're using an outdated API Version, please consider updating (server 1.5.6 / client 1.5.4)\n",
            "sample_submission.csv: Skipping, found more recently modified local copy (use --force to force download)\n",
            "train.csv: Skipping, found more recently modified local copy (use --force to force download)\n",
            "test.csv: Skipping, found more recently modified local copy (use --force to force download)\n"
          ],
          "name": "stdout"
        }
      ]
    },
    {
      "cell_type": "code",
      "metadata": {
        "id": "KcsmTIRvXF2G",
        "colab_type": "code",
        "colab": {}
      },
      "source": [
        "import pandas as pd\n",
        "import numpy as np\n",
        "\n",
        "import matplotlib.pyplot as plt\n",
        "from matplotlib_venn import venn2\n",
        "\n",
        "from sklearn.ensemble import RandomForestClassifier\n",
        "from sklearn.neighbors import KNeighborsClassifier\n",
        "\n",
        "from sklearn.feature_extraction.text import CountVectorizer\n",
        "from utils_for_ml import *"
      ],
      "execution_count": 0,
      "outputs": []
    },
    {
      "cell_type": "code",
      "metadata": {
        "id": "uz_JVeCXT_gq",
        "colab_type": "code",
        "colab": {}
      },
      "source": [
        "train = pd.read_csv('train.csv')\n",
        "test = pd.read_csv('test.csv')"
      ],
      "execution_count": 0,
      "outputs": []
    },
    {
      "cell_type": "code",
      "metadata": {
        "id": "EkdwYnXAJn3_",
        "colab_type": "code",
        "outputId": "633ba17f-51b3-4a32-c8ce-7869af900229",
        "colab": {
          "base_uri": "https://localhost:8080/",
          "height": 248
        }
      },
      "source": [
        "x = train['target'].value_counts()\n",
        "plt.pie(x, labels = ['not real', 'real disaster'], shadow=True, colors = ['#99ff99','#66b3ff'])\n",
        "plt.show()"
      ],
      "execution_count": 0,
      "outputs": [
        {
          "output_type": "display_data",
          "data": {
            "image/png": "[encoded data removed]",
            "text/plain": [
              "<Figure size 432x288 with 1 Axes>"
            ]
          },
          "metadata": {
            "tags": []
          }
        }
      ]
    },
    {
      "cell_type": "markdown",
      "metadata": {
        "id": "VIa5SiRcKT6S",
        "colab_type": "text"
      },
      "source": [
        "We have a deal with unbalanced dataset."
      ]
    },
    {
      "cell_type": "markdown",
      "metadata": {
        "id": "pEqD-q0En56z",
        "colab_type": "text"
      },
      "source": [
        "After reading the data we can extract **hashtags** from tweets:"
      ]
    },
    {
      "cell_type": "code",
      "metadata": {
        "id": "kTeEdna6XOP9",
        "colab_type": "code",
        "colab": {}
      },
      "source": [
        "train['tags'] = train['text'].str.findall(r'#.*?(?=\\s|$)')\n",
        "test['tags'] = test['text'].str.findall(r'#.*?(?=\\s|$)')"
      ],
      "execution_count": 0,
      "outputs": []
    },
    {
      "cell_type": "code",
      "metadata": {
        "id": "iXz4trVmXbz2",
        "colab_type": "code",
        "outputId": "f3c06b74-8936-42c4-9f2d-74c67a70241d",
        "colab": {
          "base_uri": "https://localhost:8080/",
          "height": 359
        }
      },
      "source": [
        "train.head(10)"
      ],
      "execution_count": 0,
      "outputs": [
        {
          "output_type": "execute_result",
          "data": {
            "text/html": [
              "<div>\n",
              "<style scoped>\n",
              "    .dataframe tbody tr th:only-of-type {\n",
              "        vertical-align: middle;\n",
              "    }\n",
              "\n",
              "    .dataframe tbody tr th {\n",
              "        vertical-align: top;\n",
              "    }\n",
              "\n",
              "    .dataframe thead th {\n",
              "        text-align: right;\n",
              "    }\n",
              "</style>\n",
              "<table border=\"1\" class=\"dataframe\">\n",
              "  <thead>\n",
              "    <tr style=\"text-align: right;\">\n",
              "      <th></th>\n",
              "      <th>id</th>\n",
              "      <th>keyword</th>\n",
              "      <th>location</th>\n",
              "      <th>text</th>\n",
              "      <th>target</th>\n",
              "      <th>tags</th>\n",
              "    </tr>\n",
              "  </thead>\n",
              "  <tbody>\n",
              "    <tr>\n",
              "      <th>0</th>\n",
              "      <td>1</td>\n",
              "      <td>NaN</td>\n",
              "      <td>NaN</td>\n",
              "      <td>Our Deeds are the Reason of this #earthquake M...</td>\n",
              "      <td>1</td>\n",
              "      <td>[#earthquake]</td>\n",
              "    </tr>\n",
              "    <tr>\n",
              "      <th>1</th>\n",
              "      <td>4</td>\n",
              "      <td>NaN</td>\n",
              "      <td>NaN</td>\n",
              "      <td>Forest fire near La Ronge Sask. Canada</td>\n",
              "      <td>1</td>\n",
              "      <td>[]</td>\n",
              "    </tr>\n",
              "    <tr>\n",
              "      <th>2</th>\n",
              "      <td>5</td>\n",
              "      <td>NaN</td>\n",
              "      <td>NaN</td>\n",
              "      <td>All residents asked to 'shelter in place' are ...</td>\n",
              "      <td>1</td>\n",
              "      <td>[]</td>\n",
              "    </tr>\n",
              "    <tr>\n",
              "      <th>3</th>\n",
              "      <td>6</td>\n",
              "      <td>NaN</td>\n",
              "      <td>NaN</td>\n",
              "      <td>13,000 people receive #wildfires evacuation or...</td>\n",
              "      <td>1</td>\n",
              "      <td>[#wildfires]</td>\n",
              "    </tr>\n",
              "    <tr>\n",
              "      <th>4</th>\n",
              "      <td>7</td>\n",
              "      <td>NaN</td>\n",
              "      <td>NaN</td>\n",
              "      <td>Just got sent this photo from Ruby #Alaska as ...</td>\n",
              "      <td>1</td>\n",
              "      <td>[#Alaska, #wildfires]</td>\n",
              "    </tr>\n",
              "    <tr>\n",
              "      <th>5</th>\n",
              "      <td>8</td>\n",
              "      <td>NaN</td>\n",
              "      <td>NaN</td>\n",
              "      <td>#RockyFire Update =&gt; California Hwy. 20 closed...</td>\n",
              "      <td>1</td>\n",
              "      <td>[#RockyFire, #CAfire, #wildfires]</td>\n",
              "    </tr>\n",
              "    <tr>\n",
              "      <th>6</th>\n",
              "      <td>10</td>\n",
              "      <td>NaN</td>\n",
              "      <td>NaN</td>\n",
              "      <td>#flood #disaster Heavy rain causes flash flood...</td>\n",
              "      <td>1</td>\n",
              "      <td>[#flood, #disaster]</td>\n",
              "    </tr>\n",
              "    <tr>\n",
              "      <th>7</th>\n",
              "      <td>13</td>\n",
              "      <td>NaN</td>\n",
              "      <td>NaN</td>\n",
              "      <td>I'm on top of the hill and I can see a fire in...</td>\n",
              "      <td>1</td>\n",
              "      <td>[]</td>\n",
              "    </tr>\n",
              "    <tr>\n",
              "      <th>8</th>\n",
              "      <td>14</td>\n",
              "      <td>NaN</td>\n",
              "      <td>NaN</td>\n",
              "      <td>There's an emergency evacuation happening now ...</td>\n",
              "      <td>1</td>\n",
              "      <td>[]</td>\n",
              "    </tr>\n",
              "    <tr>\n",
              "      <th>9</th>\n",
              "      <td>15</td>\n",
              "      <td>NaN</td>\n",
              "      <td>NaN</td>\n",
              "      <td>I'm afraid that the tornado is coming to our a...</td>\n",
              "      <td>1</td>\n",
              "      <td>[]</td>\n",
              "    </tr>\n",
              "  </tbody>\n",
              "</table>\n",
              "</div>"
            ],
            "text/plain": [
              "   id keyword  ... target                               tags\n",
              "0   1     NaN  ...      1                      [#earthquake]\n",
              "1   4     NaN  ...      1                                 []\n",
              "2   5     NaN  ...      1                                 []\n",
              "3   6     NaN  ...      1                       [#wildfires]\n",
              "4   7     NaN  ...      1              [#Alaska, #wildfires]\n",
              "5   8     NaN  ...      1  [#RockyFire, #CAfire, #wildfires]\n",
              "6  10     NaN  ...      1                [#flood, #disaster]\n",
              "7  13     NaN  ...      1                                 []\n",
              "8  14     NaN  ...      1                                 []\n",
              "9  15     NaN  ...      1                                 []\n",
              "\n",
              "[10 rows x 6 columns]"
            ]
          },
          "metadata": {
            "tags": []
          },
          "execution_count": 21
        }
      ]
    },
    {
      "cell_type": "markdown",
      "metadata": {
        "id": "KO5t7ktXtn6t",
        "colab_type": "text"
      },
      "source": [
        "##Data Analysis:"
      ]
    },
    {
      "cell_type": "markdown",
      "metadata": {
        "id": "dO-oQrNdxxUN",
        "colab_type": "text"
      },
      "source": [
        "To explore tags in train and test I will collect them in to np.arrays:"
      ]
    },
    {
      "cell_type": "code",
      "metadata": {
        "id": "V2Av1-pbqiUb",
        "colab_type": "code",
        "colab": {}
      },
      "source": [
        "tags_in_train = np.array([])\n",
        "for tags in train['tags'].values:\n",
        "  tags_in_train = np.append(tags_in_train, tags)\n",
        "\n",
        "tags_in_test = np.array([])\n",
        "for tags in test['tags'].values:\n",
        "  tags_in_test = np.append(tags_in_test, tags)"
      ],
      "execution_count": 0,
      "outputs": []
    },
    {
      "cell_type": "markdown",
      "metadata": {
        "id": "6Aej7FR0x6ZP",
        "colab_type": "text"
      },
      "source": [
        "Doing lowercase to all of them:"
      ]
    },
    {
      "cell_type": "code",
      "metadata": {
        "id": "w0MbOwi-qiTN",
        "colab_type": "code",
        "colab": {}
      },
      "source": [
        "tags_in_train = [tag.lower() for tag in tags_in_train]\n",
        "tags_in_test = [tag.lower() for tag in tags_in_test]  "
      ],
      "execution_count": 0,
      "outputs": []
    },
    {
      "cell_type": "markdown",
      "metadata": {
        "id": "csJKsu_f0Kxd",
        "colab_type": "text"
      },
      "source": [
        "As we want to get more the same tags, we will do lemmatization then, to do it let's replace '#':"
      ]
    },
    {
      "cell_type": "code",
      "metadata": {
        "id": "Ft-ia8HUz6cn",
        "colab_type": "code",
        "colab": {}
      },
      "source": [
        "tags_in_train = [tag.replace('#', '') for tag in tags_in_train]\n",
        "tags_in_test = [tag.replace('#', '') for tag in tags_in_test]"
      ],
      "execution_count": 0,
      "outputs": []
    },
    {
      "cell_type": "markdown",
      "metadata": {
        "id": "8EeNRsRrpXKb",
        "colab_type": "text"
      },
      "source": [
        "I will save it to new arrays to have the ability to compare with tags with no lemmatization:"
      ]
    },
    {
      "cell_type": "code",
      "metadata": {
        "id": "UoIQmQNn0YgJ",
        "colab_type": "code",
        "outputId": "566ec534-cbeb-4506-a970-7cacc31ad797",
        "colab": {
          "base_uri": "https://localhost:8080/",
          "height": 51
        }
      },
      "source": [
        "import nltk\n",
        "nltk.download('wordnet')\n",
        "from nltk.stem import WordNetLemmatizer\n",
        "\n",
        "lem = WordNetLemmatizer()\n",
        "\n",
        "lem_in_train = [lem.lemmatize(tag) for tag in tags_in_train]\n",
        "lem_in_test = [lem.lemmatize(tag) for tag in tags_in_test]"
      ],
      "execution_count": 0,
      "outputs": [
        {
          "output_type": "stream",
          "text": [
            "[nltk_data] Downloading package wordnet to /root/nltk_data...\n",
            "[nltk_data]   Unzipping corpora/wordnet.zip.\n"
          ],
          "name": "stdout"
        }
      ]
    },
    {
      "cell_type": "markdown",
      "metadata": {
        "id": "mgg0BZ6fyB41",
        "colab_type": "text"
      },
      "source": [
        "Amounts without lemmatization:"
      ]
    },
    {
      "cell_type": "code",
      "metadata": {
        "id": "Imd-zr-QserK",
        "colab_type": "code",
        "outputId": "24627a70-e000-4998-cf28-afcc8dadf024",
        "colab": {
          "base_uri": "https://localhost:8080/",
          "height": 102
        }
      },
      "source": [
        "print(('Number tags in train:          {}\\n'+\\\n",
        "       'Number unique tags in train:   {}\\n'+\\\n",
        "       'Number tags in test:           {}\\n'+\\\n",
        "       'Number unique tags in test:    {}\\n')\n",
        "       .format(len(tags_in_train), \n",
        "       len(np.unique(tags_in_train)), \n",
        "       len(tags_in_test), \n",
        "       len(np.unique(tags_in_test))))"
      ],
      "execution_count": 0,
      "outputs": [
        {
          "output_type": "stream",
          "text": [
            "Number tags in train:          3384\n",
            "Number unique tags in train:   1988\n",
            "Number tags in test:           1535\n",
            "Number unique tags in test:    1155\n",
            "\n"
          ],
          "name": "stdout"
        }
      ]
    },
    {
      "cell_type": "markdown",
      "metadata": {
        "id": "zO1EGTov1Qlm",
        "colab_type": "text"
      },
      "source": [
        "And with lemmatization:"
      ]
    },
    {
      "cell_type": "code",
      "metadata": {
        "id": "4-RvIgP1yCmd",
        "colab_type": "code",
        "outputId": "7589ceac-c40e-45b9-d5ff-382ad75a83c2",
        "colab": {
          "base_uri": "https://localhost:8080/",
          "height": 102
        }
      },
      "source": [
        "print(('Number tags in train afret lematization:          {}\\n'+\\\n",
        "       'Number unique tags in train afret lematization:   {}\\n'+\\\n",
        "       'Number tags in test afret lematization:           {}\\n'+\\\n",
        "       'Number unique tags in test afret lematization:    {}\\n') \n",
        "       .format(len(lem_in_train), \n",
        "       len(np.unique(lem_in_train)), \n",
        "       len(lem_in_test), \n",
        "       len(np.unique(lem_in_test))))"
      ],
      "execution_count": 0,
      "outputs": [
        {
          "output_type": "stream",
          "text": [
            "Number tags in train afret lematization:          3384\n",
            "Number unique tags in train afret lematization:   1964\n",
            "Number tags in test afret lematization:           1535\n",
            "Number unique tags in test afret lematization:    1143\n",
            "\n"
          ],
          "name": "stdout"
        }
      ]
    },
    {
      "cell_type": "markdown",
      "metadata": {
        "id": "5UITCPyBqDhJ",
        "colab_type": "text"
      },
      "source": [
        "We can see pretty similar results, so let's have a look at the **intersection** of tags in a train and tags in a test, as we will use just them for our model:"
      ]
    },
    {
      "cell_type": "code",
      "metadata": {
        "id": "MTM2OCfBvbmv",
        "colab_type": "code",
        "colab": {}
      },
      "source": [
        "intersect = np.intersect1d(tags_in_test, tags_in_train)"
      ],
      "execution_count": 0,
      "outputs": []
    },
    {
      "cell_type": "code",
      "metadata": {
        "id": "-eMEBqRP2FQf",
        "colab_type": "code",
        "colab": {}
      },
      "source": [
        "lem_intersect = np.intersect1d(lem_in_test, lem_in_train)"
      ],
      "execution_count": 0,
      "outputs": []
    },
    {
      "cell_type": "code",
      "metadata": {
        "id": "Epfs6IUCsiI0",
        "colab_type": "code",
        "outputId": "0d69e39e-06c0-454d-fd39-7d46ca489654",
        "colab": {
          "base_uri": "https://localhost:8080/",
          "height": 51
        }
      },
      "source": [
        "print(('Number of tags in intersect of train and test:                      {}\\n'+\\\n",
        "       'Number of tags in intersect of train and test afret lematization:   {}')\n",
        "       .format(len(intersect), len(lem_intersect)))"
      ],
      "execution_count": 0,
      "outputs": [
        {
          "output_type": "stream",
          "text": [
            "Number of tags in intersect of train and test:                      409\n",
            "Number of tags in intersect of train and test afret lematization:   406\n"
          ],
          "name": "stdout"
        }
      ]
    },
    {
      "cell_type": "markdown",
      "metadata": {
        "id": "gnJMVwMHq3Nb",
        "colab_type": "text"
      },
      "source": [
        "As we can see, lemmatization didn't give me that I aspect, just on 3 words less. Let's make a good visualization to show it:"
      ]
    },
    {
      "cell_type": "code",
      "metadata": {
        "id": "tCF3tFSN4ksk",
        "colab_type": "code",
        "outputId": "49df2bbf-bf94-4d34-eb6c-418503b5a90a",
        "colab": {
          "base_uri": "https://localhost:8080/",
          "height": 257
        }
      },
      "source": [
        "plt.figure(figsize=(13,13))\n",
        "\n",
        "plt.subplot(321)\n",
        "venn2([set(tags_in_train), set(tags_in_test)], set_labels=('train', 'test'))\n",
        "plt.title('intersect of train and test')\n",
        "\n",
        "plt.subplot(322)\n",
        "venn2([set(lem_in_train), set(lem_in_test)], set_labels=('train afret lematization', 'test afret lematization'))\n",
        "plt.title('intersect of train and test afret lematization')\n",
        "plt.show()\n"
      ],
      "execution_count": 0,
      "outputs": [
        {
          "output_type": "display_data",
          "data": {
            "image/png": "[encoded data removed]",
            "text/plain": [
              "<Figure size 936x936 with 2 Axes>"
            ]
          },
          "metadata": {
            "tags": []
          }
        }
      ]
    },
    {
      "cell_type": "markdown",
      "metadata": {
        "id": "my716_Msrn1-",
        "colab_type": "text"
      },
      "source": [
        "Let's try to use stemming:"
      ]
    },
    {
      "cell_type": "code",
      "metadata": {
        "id": "CLsN-KOU2eqC",
        "colab_type": "code",
        "colab": {}
      },
      "source": [
        "from nltk.stem.snowball import SnowballStemmer\n",
        "stemmer = SnowballStemmer(\"english\")\n",
        "\n",
        "stem_in_train = [stemmer.stem(tag) for tag in tags_in_train]\n",
        "stem_in_test = [stemmer.stem(tag) for tag in tags_in_test]"
      ],
      "execution_count": 0,
      "outputs": []
    },
    {
      "cell_type": "code",
      "metadata": {
        "id": "8o3rq9xz1QRU",
        "colab_type": "code",
        "outputId": "b4d1748f-edf7-4d9c-a65b-1de1e0fc60d7",
        "colab": {
          "base_uri": "https://localhost:8080/",
          "height": 68
        }
      },
      "source": [
        "print(('Number unique tags in train afret stemming:  {}\\n'+\\\n",
        "       'Number unique tags in test afret stemming:   {}\\n') \n",
        "       .format(len(np.unique(stem_in_train)), \n",
        "       len(np.unique(stem_in_test))))"
      ],
      "execution_count": 0,
      "outputs": [
        {
          "output_type": "stream",
          "text": [
            "Number unique tags in train afret stemming:  1946\n",
            "Number unique tags in test afret stemming:   1138\n",
            "\n"
          ],
          "name": "stdout"
        }
      ]
    },
    {
      "cell_type": "code",
      "metadata": {
        "id": "0kOsvGq62ehY",
        "colab_type": "code",
        "colab": {}
      },
      "source": [
        "stem_intersect = np.intersect1d(stem_in_test, stem_in_train)"
      ],
      "execution_count": 0,
      "outputs": []
    },
    {
      "cell_type": "code",
      "metadata": {
        "id": "0pdTzjl82eeF",
        "colab_type": "code",
        "outputId": "988a0995-133a-48a0-84e5-cfd344259dee",
        "colab": {
          "base_uri": "https://localhost:8080/",
          "height": 34
        }
      },
      "source": [
        "print('Number of tags in intersect of train and test afret stemming:  {}'\n",
        "      .format(len(stem_intersect)))"
      ],
      "execution_count": 0,
      "outputs": [
        {
          "output_type": "stream",
          "text": [
            "Number of tags in intersect of train and test afret stemming:  408\n"
          ],
          "name": "stdout"
        }
      ]
    },
    {
      "cell_type": "markdown",
      "metadata": {
        "id": "Zpp8lO10r0Q-",
        "colab_type": "text"
      },
      "source": [
        "So, stemming didn't give me, that I expected to..."
      ]
    },
    {
      "cell_type": "code",
      "metadata": {
        "id": "04xz-tXi6dIA",
        "colab_type": "code",
        "outputId": "d775ca98-f5bd-4012-be5a-97103ecef673",
        "colab": {
          "base_uri": "https://localhost:8080/",
          "height": 267
        }
      },
      "source": [
        "venn2([set(stem_in_train), set(stem_in_test)], set_labels=('train afret stemming', 'test afret stemming'))\n",
        "plt.title('intersect of train and test afret stemming')\n",
        "plt.show()"
      ],
      "execution_count": 0,
      "outputs": [
        {
          "output_type": "display_data",
          "data": {
            "image/png": "[encoded data removed]",
            "text/plain": [
              "<Figure size 432x288 with 1 Axes>"
            ]
          },
          "metadata": {
            "tags": []
          }
        }
      ]
    },
    {
      "cell_type": "markdown",
      "metadata": {
        "id": "d9tXtX1f4Lyp",
        "colab_type": "text"
      },
      "source": [
        "Thus, stemming and lemmatization gave almost the same number of intersect of train and test tags, so I will use original tags."
      ]
    },
    {
      "cell_type": "markdown",
      "metadata": {
        "id": "qb1Ofsyqtdd0",
        "colab_type": "text"
      },
      "source": [
        "##Data Preprocessing"
      ]
    },
    {
      "cell_type": "markdown",
      "metadata": {
        "id": "cV_gRpmFtN6n",
        "colab_type": "text"
      },
      "source": [
        "Let's drop unnecessary tags:"
      ]
    },
    {
      "cell_type": "code",
      "metadata": {
        "id": "i1gAOdPwvAC0",
        "colab_type": "code",
        "colab": {}
      },
      "source": [
        "train['tags'] = train['tags'].apply(lambda tags: [tag.lower().replace('#', '') for tag in tags if tag.lower().replace('#', '') in intersect])\n",
        "test['tags'] = test['tags'].apply(lambda tags: [tag.lower().replace('#', '') for tag in tags if tag.lower().replace('#', '') in intersect])"
      ],
      "execution_count": 0,
      "outputs": []
    },
    {
      "cell_type": "markdown",
      "metadata": {
        "id": "tfVLe1G8uPxH",
        "colab_type": "text"
      },
      "source": [
        "As some of tweets have no tags and some have more than one, let's have a look at the max number of tags in train:"
      ]
    },
    {
      "cell_type": "code",
      "metadata": {
        "id": "EyXZPI-gXfPK",
        "colab_type": "code",
        "outputId": "d5beb172-d401-4b00-c57a-e8d33336f5c5",
        "colab": {
          "base_uri": "https://localhost:8080/",
          "height": 34
        }
      },
      "source": [
        "train['tags'].apply(lambda tags: len(tags)).max()"
      ],
      "execution_count": 0,
      "outputs": [
        {
          "output_type": "execute_result",
          "data": {
            "text/plain": [
              "10"
            ]
          },
          "metadata": {
            "tags": []
          },
          "execution_count": 38
        }
      ]
    },
    {
      "cell_type": "markdown",
      "metadata": {
        "id": "RmmRJQsbujWp",
        "colab_type": "text"
      },
      "source": [
        "And in test:"
      ]
    },
    {
      "cell_type": "code",
      "metadata": {
        "id": "SnEJLve-5ir9",
        "colab_type": "code",
        "outputId": "8d972ce7-b6a6-4481-972c-afd3ad39ee40",
        "colab": {
          "base_uri": "https://localhost:8080/",
          "height": 34
        }
      },
      "source": [
        "test['tags'].apply(lambda tags: len(tags)).max()"
      ],
      "execution_count": 0,
      "outputs": [
        {
          "output_type": "execute_result",
          "data": {
            "text/plain": [
              "10"
            ]
          },
          "metadata": {
            "tags": []
          },
          "execution_count": 39
        }
      ]
    },
    {
      "cell_type": "markdown",
      "metadata": {
        "id": "Sd3U8g3xumJv",
        "colab_type": "text"
      },
      "source": [
        "We got the same max number."
      ]
    },
    {
      "cell_type": "code",
      "metadata": {
        "id": "x7ECN4ocu_-X",
        "colab_type": "code",
        "outputId": "44462b46-dd43-4fd5-a158-2e33c9c135ad",
        "colab": {
          "base_uri": "https://localhost:8080/",
          "height": 204
        }
      },
      "source": [
        "train.head()"
      ],
      "execution_count": 0,
      "outputs": [
        {
          "output_type": "execute_result",
          "data": {
            "text/html": [
              "<div>\n",
              "<style scoped>\n",
              "    .dataframe tbody tr th:only-of-type {\n",
              "        vertical-align: middle;\n",
              "    }\n",
              "\n",
              "    .dataframe tbody tr th {\n",
              "        vertical-align: top;\n",
              "    }\n",
              "\n",
              "    .dataframe thead th {\n",
              "        text-align: right;\n",
              "    }\n",
              "</style>\n",
              "<table border=\"1\" class=\"dataframe\">\n",
              "  <thead>\n",
              "    <tr style=\"text-align: right;\">\n",
              "      <th></th>\n",
              "      <th>id</th>\n",
              "      <th>keyword</th>\n",
              "      <th>location</th>\n",
              "      <th>text</th>\n",
              "      <th>target</th>\n",
              "      <th>tags</th>\n",
              "    </tr>\n",
              "  </thead>\n",
              "  <tbody>\n",
              "    <tr>\n",
              "      <th>0</th>\n",
              "      <td>1</td>\n",
              "      <td>NaN</td>\n",
              "      <td>NaN</td>\n",
              "      <td>Our Deeds are the Reason of this #earthquake M...</td>\n",
              "      <td>1</td>\n",
              "      <td>[earthquake]</td>\n",
              "    </tr>\n",
              "    <tr>\n",
              "      <th>1</th>\n",
              "      <td>4</td>\n",
              "      <td>NaN</td>\n",
              "      <td>NaN</td>\n",
              "      <td>Forest fire near La Ronge Sask. Canada</td>\n",
              "      <td>1</td>\n",
              "      <td>[]</td>\n",
              "    </tr>\n",
              "    <tr>\n",
              "      <th>2</th>\n",
              "      <td>5</td>\n",
              "      <td>NaN</td>\n",
              "      <td>NaN</td>\n",
              "      <td>All residents asked to 'shelter in place' are ...</td>\n",
              "      <td>1</td>\n",
              "      <td>[]</td>\n",
              "    </tr>\n",
              "    <tr>\n",
              "      <th>3</th>\n",
              "      <td>6</td>\n",
              "      <td>NaN</td>\n",
              "      <td>NaN</td>\n",
              "      <td>13,000 people receive #wildfires evacuation or...</td>\n",
              "      <td>1</td>\n",
              "      <td>[wildfires]</td>\n",
              "    </tr>\n",
              "    <tr>\n",
              "      <th>4</th>\n",
              "      <td>7</td>\n",
              "      <td>NaN</td>\n",
              "      <td>NaN</td>\n",
              "      <td>Just got sent this photo from Ruby #Alaska as ...</td>\n",
              "      <td>1</td>\n",
              "      <td>[wildfires]</td>\n",
              "    </tr>\n",
              "  </tbody>\n",
              "</table>\n",
              "</div>"
            ],
            "text/plain": [
              "   id keyword  ... target          tags\n",
              "0   1     NaN  ...      1  [earthquake]\n",
              "1   4     NaN  ...      1            []\n",
              "2   5     NaN  ...      1            []\n",
              "3   6     NaN  ...      1   [wildfires]\n",
              "4   7     NaN  ...      1   [wildfires]\n",
              "\n",
              "[5 rows x 6 columns]"
            ]
          },
          "metadata": {
            "tags": []
          },
          "execution_count": 40
        }
      ]
    },
    {
      "cell_type": "markdown",
      "metadata": {
        "id": "iIMeuBQ0uvws",
        "colab_type": "text"
      },
      "source": [
        "To vectorize all tag's lists I will use CountVectorizer, so I will do some preprocessing to use it:"
      ]
    },
    {
      "cell_type": "code",
      "metadata": {
        "id": "xI0iaYjr6Xlo",
        "colab_type": "code",
        "colab": {}
      },
      "source": [
        "detokenized_train = [] \n",
        "for i in range(len(train)): \n",
        "    tags = ' '.join(train['tags'].values[i]) \n",
        "    detokenized_train.append(tags)\n",
        "\n",
        "detokenized_test = [] \n",
        "for i in range(len(test)): \n",
        "    tags = ' '.join(test['tags'].values[i]) \n",
        "    detokenized_test.append(tags)\n",
        "\n",
        "train['tags'] = detokenized_train\n",
        "test['tags'] = detokenized_test"
      ],
      "execution_count": 0,
      "outputs": []
    },
    {
      "cell_type": "code",
      "metadata": {
        "id": "8ZtX1UMm6XAW",
        "colab_type": "code",
        "colab": {}
      },
      "source": [
        "vectorizer = CountVectorizer(lowercase=False, token_pattern='\\\\b(\\w+(\\S|\\\\.)?)+\\\\b')"
      ],
      "execution_count": 0,
      "outputs": []
    },
    {
      "cell_type": "code",
      "metadata": {
        "id": "N-iEzfiwu_66",
        "colab_type": "code",
        "outputId": "63456de5-9e29-4ea9-aa7b-4f73a010f49b",
        "colab": {
          "base_uri": "https://localhost:8080/",
          "height": 51
        }
      },
      "source": [
        "vectorizer.fit_transform(train['tags'])"
      ],
      "execution_count": 0,
      "outputs": [
        {
          "output_type": "execute_result",
          "data": {
            "text/plain": [
              "<7613x398 sparse matrix of type '<class 'numpy.int64'>'\n",
              "\twith 1404 stored elements in Compressed Sparse Row format>"
            ]
          },
          "metadata": {
            "tags": []
          },
          "execution_count": 43
        }
      ]
    },
    {
      "cell_type": "markdown",
      "metadata": {
        "id": "ZaNhZjcZ8gFl",
        "colab_type": "text"
      },
      "source": [
        "We have to get a 7613x409 matrix but got 7613x398. It's mean, that some of the tags weren't coded, to find them, I will use setdiff1d: "
      ]
    },
    {
      "cell_type": "code",
      "metadata": {
        "id": "nDv11Hvnu_4P",
        "colab_type": "code",
        "outputId": "618bebbc-921f-4de6-860b-5f5f88d64d79",
        "colab": {
          "base_uri": "https://localhost:8080/",
          "height": 68
        }
      },
      "source": [
        "np.setdiff1d(vectorizer.get_feature_names(), intersect)"
      ],
      "execution_count": 0,
      "outputs": [
        {
          "output_type": "execute_result",
          "data": {
            "text/plain": [
              "array(['-', '3', '4playthursdays', '_', 'bestnaijamade', 'manchester',\n",
              "       'nikeplus', 'ok', 'ramag', 'trauma', '\\x89', 'û', 'û_', 'ûªs'],\n",
              "      dtype='<U27')"
            ]
          },
          "metadata": {
            "tags": []
          },
          "execution_count": 44
        }
      ]
    },
    {
      "cell_type": "markdown",
      "metadata": {
        "id": "OGa8ujiX9eyw",
        "colab_type": "text"
      },
      "source": [
        "As an example, we have \"manchester**.**\" in an uncoded list, but have no \"manchester\" there. So, I will fix it."
      ]
    },
    {
      "cell_type": "code",
      "metadata": {
        "id": "T3-D_EvYCnKB",
        "colab_type": "code",
        "outputId": "962a08c5-09c6-4eec-b0e2-35526066dced",
        "colab": {
          "base_uri": "https://localhost:8080/",
          "height": 51
        }
      },
      "source": [
        "print('manchester' in intersect)\n",
        "print('manchester.' in intersect)"
      ],
      "execution_count": 0,
      "outputs": [
        {
          "output_type": "stream",
          "text": [
            "False\n",
            "True\n"
          ],
          "name": "stdout"
        }
      ]
    },
    {
      "cell_type": "code",
      "metadata": {
        "id": "HrwvAVTe-dY7",
        "colab_type": "code",
        "colab": {}
      },
      "source": [
        "labels = train['target']\n",
        "\n",
        "features = vectorizer.fit_transform(train['tags']).toarray()\n",
        "test_features = vectorizer.fit_transform(test['tags']).toarray()"
      ],
      "execution_count": 0,
      "outputs": []
    },
    {
      "cell_type": "markdown",
      "metadata": {
        "id": "GAQACGI_gElf",
        "colab_type": "text"
      },
      "source": [
        "##Model"
      ]
    },
    {
      "cell_type": "markdown",
      "metadata": {
        "id": "xHoKya2tQOXm",
        "colab_type": "text"
      },
      "source": [
        "In the previous time, I user Random Forest which gave F1 ~ 0.17, but I decided to try  KNN and it was really good decision."
      ]
    },
    {
      "cell_type": "code",
      "metadata": {
        "id": "Yg9f2ctICCc-",
        "colab_type": "code",
        "outputId": "63d3f01b-2ecb-4cba-d854-88726fa43a34",
        "colab": {
          "base_uri": "https://localhost:8080/",
          "height": 68
        }
      },
      "source": [
        "train_prediction = cross_val(features,\n",
        "                             labels,\n",
        "                             model_type = 'knn',\n",
        "                             n_estimators = 50,\n",
        "                             print_feature_importances = False,\n",
        "                             k_neighbors = 9, \n",
        "                             n_folds = 5)\n"
      ],
      "execution_count": 0,
      "outputs": [
        {
          "output_type": "stream",
          "text": [
            "Training Data Shape:  (7613, 398)\n",
            "\n",
            "F1 Score: 0.5971428571428572\n"
          ],
          "name": "stdout"
        }
      ]
    },
    {
      "cell_type": "markdown",
      "metadata": {
        "id": "40zj0CJgIY-8",
        "colab_type": "text"
      },
      "source": [
        "Creating datasets for predictions:"
      ]
    },
    {
      "cell_type": "code",
      "metadata": {
        "id": "_O0nBZed_dqu",
        "colab_type": "code",
        "colab": {}
      },
      "source": [
        "prediction = train.copy()\n",
        "\n",
        "prediction['tags_pred'] = train_prediction\n",
        "prediction = prediction.drop(columns = ['keyword', 'location', 'text', 'tags'])"
      ],
      "execution_count": 0,
      "outputs": []
    },
    {
      "cell_type": "code",
      "metadata": {
        "id": "XlNYb98iDNuK",
        "colab_type": "code",
        "outputId": "ddb729b9-9f87-423f-d309-cda5f1ab5946",
        "colab": {
          "base_uri": "https://localhost:8080/",
          "height": 204
        }
      },
      "source": [
        "prediction.head()"
      ],
      "execution_count": 0,
      "outputs": [
        {
          "output_type": "execute_result",
          "data": {
            "text/html": [
              "<div>\n",
              "<style scoped>\n",
              "    .dataframe tbody tr th:only-of-type {\n",
              "        vertical-align: middle;\n",
              "    }\n",
              "\n",
              "    .dataframe tbody tr th {\n",
              "        vertical-align: top;\n",
              "    }\n",
              "\n",
              "    .dataframe thead th {\n",
              "        text-align: right;\n",
              "    }\n",
              "</style>\n",
              "<table border=\"1\" class=\"dataframe\">\n",
              "  <thead>\n",
              "    <tr style=\"text-align: right;\">\n",
              "      <th></th>\n",
              "      <th>id</th>\n",
              "      <th>target</th>\n",
              "      <th>tags_pred</th>\n",
              "    </tr>\n",
              "  </thead>\n",
              "  <tbody>\n",
              "    <tr>\n",
              "      <th>0</th>\n",
              "      <td>1</td>\n",
              "      <td>1</td>\n",
              "      <td>0.888889</td>\n",
              "    </tr>\n",
              "    <tr>\n",
              "      <th>1</th>\n",
              "      <td>4</td>\n",
              "      <td>1</td>\n",
              "      <td>0.666667</td>\n",
              "    </tr>\n",
              "    <tr>\n",
              "      <th>2</th>\n",
              "      <td>5</td>\n",
              "      <td>1</td>\n",
              "      <td>0.777778</td>\n",
              "    </tr>\n",
              "    <tr>\n",
              "      <th>3</th>\n",
              "      <td>6</td>\n",
              "      <td>1</td>\n",
              "      <td>0.777778</td>\n",
              "    </tr>\n",
              "    <tr>\n",
              "      <th>4</th>\n",
              "      <td>7</td>\n",
              "      <td>1</td>\n",
              "      <td>0.777778</td>\n",
              "    </tr>\n",
              "  </tbody>\n",
              "</table>\n",
              "</div>"
            ],
            "text/plain": [
              "   id  target  tags_pred\n",
              "0   1       1   0.888889\n",
              "1   4       1   0.666667\n",
              "2   5       1   0.777778\n",
              "3   6       1   0.777778\n",
              "4   7       1   0.777778"
            ]
          },
          "metadata": {
            "tags": []
          },
          "execution_count": 57
        }
      ]
    },
    {
      "cell_type": "markdown",
      "metadata": {
        "id": "T1e_82ftFnKM",
        "colab_type": "text"
      },
      "source": [
        "Let's fit our model at all dataset and get prediction for test:"
      ]
    },
    {
      "cell_type": "code",
      "metadata": {
        "id": "RDbXyB8NFmcA",
        "colab_type": "code",
        "colab": {}
      },
      "source": [
        "model = KNeighborsClassifier(n_neighbors=9)\n",
        "\n",
        "model.fit(features, labels)\n",
        "\n",
        "test_prediction = model.predict_proba(test_features)"
      ],
      "execution_count": 0,
      "outputs": []
    },
    {
      "cell_type": "code",
      "metadata": {
        "id": "gmQTPZb7G9Nv",
        "colab_type": "code",
        "colab": {}
      },
      "source": [
        "test_predictions = test.copy()\n",
        "\n",
        "test_predictions['tags_pred'] = test_prediction[:, 1]\n",
        "\n",
        "test_predictions = test_predictions.drop(columns = ['keyword', 'location', 'text', 'tags'])"
      ],
      "execution_count": 0,
      "outputs": []
    },
    {
      "cell_type": "code",
      "metadata": {
        "id": "0qCHi427H038",
        "colab_type": "code",
        "outputId": "d7244e42-6400-43b9-99fb-e886ebe319f2",
        "colab": {
          "base_uri": "https://localhost:8080/",
          "height": 204
        }
      },
      "source": [
        "test_predictions.head()"
      ],
      "execution_count": 0,
      "outputs": [
        {
          "output_type": "execute_result",
          "data": {
            "text/html": [
              "<div>\n",
              "<style scoped>\n",
              "    .dataframe tbody tr th:only-of-type {\n",
              "        vertical-align: middle;\n",
              "    }\n",
              "\n",
              "    .dataframe tbody tr th {\n",
              "        vertical-align: top;\n",
              "    }\n",
              "\n",
              "    .dataframe thead th {\n",
              "        text-align: right;\n",
              "    }\n",
              "</style>\n",
              "<table border=\"1\" class=\"dataframe\">\n",
              "  <thead>\n",
              "    <tr style=\"text-align: right;\">\n",
              "      <th></th>\n",
              "      <th>id</th>\n",
              "      <th>tags_pred</th>\n",
              "    </tr>\n",
              "  </thead>\n",
              "  <tbody>\n",
              "    <tr>\n",
              "      <th>0</th>\n",
              "      <td>0</td>\n",
              "      <td>0.777778</td>\n",
              "    </tr>\n",
              "    <tr>\n",
              "      <th>1</th>\n",
              "      <td>2</td>\n",
              "      <td>1.000000</td>\n",
              "    </tr>\n",
              "    <tr>\n",
              "      <th>2</th>\n",
              "      <td>3</td>\n",
              "      <td>0.777778</td>\n",
              "    </tr>\n",
              "    <tr>\n",
              "      <th>3</th>\n",
              "      <td>9</td>\n",
              "      <td>0.888889</td>\n",
              "    </tr>\n",
              "    <tr>\n",
              "      <th>4</th>\n",
              "      <td>11</td>\n",
              "      <td>0.777778</td>\n",
              "    </tr>\n",
              "  </tbody>\n",
              "</table>\n",
              "</div>"
            ],
            "text/plain": [
              "   id  tags_pred\n",
              "0   0   0.777778\n",
              "1   2   1.000000\n",
              "2   3   0.777778\n",
              "3   9   0.888889\n",
              "4  11   0.777778"
            ]
          },
          "metadata": {
            "tags": []
          },
          "execution_count": 62
        }
      ]
    },
    {
      "cell_type": "code",
      "metadata": {
        "id": "sfeel2zeBrA3",
        "colab_type": "code",
        "colab": {}
      },
      "source": [
        "prediction.to_csv('/content/drive/My Drive/tweeter/train_predictions_tags.csv', index_label='idx')\n",
        "test_predictions.to_csv('/content/drive/My Drive/tweeter/test_predictions_tags.csv', index_label='idx')"
      ],
      "execution_count": 0,
      "outputs": []
    }
  ]
}